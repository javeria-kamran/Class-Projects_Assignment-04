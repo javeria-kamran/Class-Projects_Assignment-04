{
  "nbformat": 4,
  "nbformat_minor": 0,
  "metadata": {
    "colab": {
      "provenance": [],
      "authorship_tag": "ABX9TyNzwqG4xZIvJVuH+MOuv5gc",
      "include_colab_link": true
    },
    "kernelspec": {
      "name": "python3",
      "display_name": "Python 3"
    },
    "language_info": {
      "name": "python"
    }
  },
  "cells": [
    {
      "cell_type": "markdown",
      "metadata": {
        "id": "view-in-github",
        "colab_type": "text"
      },
      "source": [
        "<a href=\"https://colab.research.google.com/github/javeria-kamran/Class-Projects_Assignment-04/blob/master/Miraejk.ipynb\" target=\"_parent\"><img src=\"https://colab.research.google.com/assets/colab-badge.svg\" alt=\"Open In Colab\"/></a>"
      ]
    },
    {
      "cell_type": "markdown",
      "source": [
        "# **ASSIGNMENTS 00-05**\n",
        "\n"
      ],
      "metadata": {
        "id": "gWdurteJ9dBj"
      }
    },
    {
      "cell_type": "markdown",
      "source": [
        "\n",
        "\n",
        "---\n",
        "\n",
        "\n",
        "\n",
        "---\n",
        "\n"
      ],
      "metadata": {
        "id": "wOhmnczFABQd"
      }
    },
    {
      "cell_type": "markdown",
      "source": [
        "<h1>00 Intro python:"
      ],
      "metadata": {
        "id": "RZomp62V_B4y"
      }
    },
    {
      "cell_type": "markdown",
      "source": [
        "---\n",
        "<h2>01_Add Two Numbers\n",
        "\n",
        "---\n",
        "\n"
      ],
      "metadata": {
        "id": "azX2Qpd1AIdp"
      }
    },
    {
      "cell_type": "code",
      "execution_count": null,
      "metadata": {
        "colab": {
          "base_uri": "https://localhost:8080/"
        },
        "id": "1hQCmq2z9Rip",
        "outputId": "12d85232-ddb5-4a6b-825f-e4a6e8d82b3c"
      },
      "outputs": [
        {
          "output_type": "stream",
          "name": "stdout",
          "text": [
            "Enter the first number: 3\n",
            "Enter the second number: 7\n",
            "The sum of 3 and 7 is 10.\n"
          ]
        }
      ],
      "source": [
        "def main():\n",
        "    # Prompt user for first number\n",
        "    num1 = int(input(\"Enter the first number: \"))\n",
        "\n",
        "    # Prompt user for second number\n",
        "    num2 = int(input(\"Enter the second number: \"))\n",
        "\n",
        "    # Calculate sum\n",
        "    total = num1 + num2\n",
        "\n",
        "    # Print the result\n",
        "    print(f\"The sum of {num1} and {num2} is {total}.\")\n",
        "\n",
        "# Run the main function\n",
        "if __name__ == \"__main__\":\n",
        "    main()\n"
      ]
    },
    {
      "cell_type": "markdown",
      "source": [
        "---\n",
        "<h2>02_Agreement-Bot:\n"
      ],
      "metadata": {
        "id": "Xxqw6xk2AOPM"
      }
    },
    {
      "cell_type": "code",
      "source": [
        "def main():\n",
        "    # Prompt the user for their favorite animal\n",
        "    animal = input(\"What's your favorite animal? \")\n",
        "\n",
        "    # Respond with the same animal\n",
        "    print(f\"My favorite animal is also {animal}!\")\n",
        "\n",
        "# Run the main function\n",
        "if __name__ == \"__main__\":\n",
        "    main()\n"
      ],
      "metadata": {
        "id": "cXSJczu4AUb5"
      },
      "execution_count": null,
      "outputs": []
    },
    {
      "cell_type": "markdown",
      "source": [
        "---\n",
        "<h2>03_Farrenhite To Celcius:\n"
      ],
      "metadata": {
        "id": "-px7x1ifAoZJ"
      }
    },
    {
      "cell_type": "code",
      "source": [
        "def main():\n",
        "    # Prompt the user for a temperature in Fahrenheit\n",
        "    fahrenheit = float(input(\"Enter temperature in Fahrenheit: \"))\n",
        "\n",
        "    # Convert Fahrenheit to Celsius\n",
        "    celsius = (fahrenheit - 32) * 5.0 / 9.0\n",
        "\n",
        "    # Print the result\n",
        "    print(f\"Temperature: {fahrenheit}F = {celsius}C\")\n",
        "\n",
        "# Run the main function\n",
        "if __name__ == \"__main__\":\n",
        "    main()\n"
      ],
      "metadata": {
        "id": "51Fe_I6x_rYX"
      },
      "execution_count": null,
      "outputs": []
    },
    {
      "cell_type": "markdown",
      "source": [
        "---\n",
        "<h2>04_How Old Are They:"
      ],
      "metadata": {
        "id": "r2nZmtVjBCvj"
      }
    },
    {
      "cell_type": "code",
      "source": [
        "def main():\n",
        "    # Assign ages based on the given conditions\n",
        "    Anton = 21\n",
        "    Beth = Anton + 6\n",
        "    Chen = Beth + 20\n",
        "    Drew = Chen + Anton\n",
        "    Ethan = Chen\n",
        "\n",
        "    # Print the ages in the required format\n",
        "    print(f\"Anton is {Anton}\")\n",
        "    print(f\"Beth is {Beth}\")\n",
        "    print(f\"Chen is {Chen}\")\n",
        "    print(f\"Drew is {Drew}\")\n",
        "    print(f\"Ethan is {Ethan}\")\n",
        "\n",
        "# Run the main function\n",
        "if __name__ == \"__main__\":\n",
        "    main()\n"
      ],
      "metadata": {
        "id": "SWMFwxVdH5Qw"
      },
      "execution_count": null,
      "outputs": []
    },
    {
      "cell_type": "markdown",
      "source": [
        "<h2>05_Triangle perimeter\n"
      ],
      "metadata": {
        "id": "KwgmTM84H63U"
      }
    },
    {
      "cell_type": "code",
      "source": [
        "def main():\n",
        "    # Prompt the user for the lengths of the three sides\n",
        "    side1 = float(input(\"What is the length of side 1? \"))\n",
        "    side2 = float(input(\"What is the length of side 2? \"))\n",
        "    side3 = float(input(\"What is the length of side 3? \"))\n",
        "\n",
        "    # Calculate the perimeter\n",
        "    perimeter = side1 + side2 + side3\n",
        "\n",
        "    # Print the result\n",
        "    print(f\"The perimeter of the triangle is {perimeter}\")\n",
        "\n",
        "# Run the main function\n",
        "if __name__ == \"__main__\":\n",
        "    main()\n"
      ],
      "metadata": {
        "id": "CvECSEMTZO_T"
      },
      "execution_count": null,
      "outputs": []
    },
    {
      "cell_type": "markdown",
      "source": [
        "---\n",
        "<h2>06_Square-Number"
      ],
      "metadata": {
        "id": "_zkKGfM9ar1j"
      }
    },
    {
      "cell_type": "code",
      "source": [
        "def main():\n",
        "    # Prompt the user for a number\n",
        "    number = float(input(\"Type a number to see its square: \"))\n",
        "\n",
        "    # Calculate the square\n",
        "    square = number * number\n",
        "\n",
        "    # Print the result\n",
        "    print(f\"{number} squared is {square}\")\n",
        "\n",
        "# Run the main function\n",
        "if __name__ == \"__main__\":\n",
        "    main()\n"
      ],
      "metadata": {
        "id": "T8g3yB5nc7L0"
      },
      "execution_count": null,
      "outputs": []
    },
    {
      "cell_type": "markdown",
      "source": [
        "---\n",
        "<h1>01 Expressions\n",
        "\n",
        "---\n",
        "\n",
        "\n"
      ],
      "metadata": {
        "id": "-mnu-jyndGNB"
      }
    },
    {
      "cell_type": "markdown",
      "source": [
        "<h2>01_dicesimulator"
      ],
      "metadata": {
        "id": "klLcGHvvdMps"
      }
    },
    {
      "cell_type": "code",
      "source": [
        "import random  # Import the random module for generating random numbers\n",
        "\n",
        "def roll_dice():\n",
        "    # Local variables within this function\n",
        "    die1 = random.randint(1, 6)\n",
        "    die2 = random.randint(1, 6)\n",
        "    return die1, die2  # Returning the values instead of using global variables\n",
        "\n",
        "def main():\n",
        "    # Loop to roll the dice three times\n",
        "    for i in range(1, 4):\n",
        "        die1, die2 = roll_dice()  # Call roll_dice() function\n",
        "        print(f\"Roll {i}: Die 1 = {die1}, Die 2 = {die2}\")  # Print results\n",
        "\n",
        "# Run the main function\n",
        "if __name__ == \"__main__\":\n",
        "    main()\n"
      ],
      "metadata": {
        "id": "TddZk6-7dTDo"
      },
      "execution_count": null,
      "outputs": []
    },
    {
      "cell_type": "markdown",
      "source": [
        "<h2>02_E = mc**2"
      ],
      "metadata": {
        "id": "9qKjHhhjdvvk"
      }
    },
    {
      "cell_type": "code",
      "source": [
        "def main():\n",
        "    # Define the speed of light constant (in meters per second)\n",
        "    C = 299792458\n",
        "\n",
        "    while True:  # Loop to allow multiple calculations\n",
        "        try:\n",
        "            # Prompt the user for mass in kilograms\n",
        "            mass = float(input(\"Enter kilos of mass (or type 0 to exit): \"))\n",
        "\n",
        "            if mass == 0:\n",
        "                print(\"Exiting program...\")\n",
        "                break  # Exit the loop if the user enters 0\n",
        "\n",
        "            # Calculate energy using E = m * C^2\n",
        "            energy = mass * C**2\n",
        "\n",
        "            # Print results\n",
        "            print(\"\\ne = m * C^2...\\n\")\n",
        "            print(f\"m = {mass} kg\")\n",
        "            print(f\"C = {C} m/s\")\n",
        "            print(f\"{energy} joules of energy!\\n\")\n",
        "\n",
        "        except ValueError:\n",
        "            print(\"Invalid input! Please enter a valid number.\\n\")\n",
        "\n",
        "# Run the main function\n",
        "if __name__ == \"__main__\":\n",
        "    main()\n"
      ],
      "metadata": {
        "id": "570_93H1eCt6"
      },
      "execution_count": null,
      "outputs": []
    },
    {
      "cell_type": "markdown",
      "source": [
        "<h2>03_Feet-To-Inches"
      ],
      "metadata": {
        "id": "mggIFWngeIcH"
      }
    },
    {
      "cell_type": "code",
      "source": [
        "def feet_to_inches(feet):\n",
        "    return feet * 12  # 1 foot = 12 inches\n",
        "\n",
        "def main():\n",
        "    try:\n",
        "        # Prompt user for input\n",
        "        feet = float(input(\"Enter the length in feet: \"))\n",
        "\n",
        "        # Convert to inches\n",
        "        inches = feet_to_inches(feet)\n",
        "\n",
        "        # Print the result with correct singular/plural form\n",
        "        unit = \"foot\" if feet == 1 else \"feet\"\n",
        "        print(f\"{feet} {unit} is {inches} inches.\")\n",
        "\n",
        "    except ValueError:\n",
        "        print(\"Invalid input! Please enter a number.\")\n",
        "\n",
        "# Run the main function\n",
        "if __name__ == \"__main__\":\n",
        "    main()\n"
      ],
      "metadata": {
        "id": "VUsG9NaMhb_v",
        "colab": {
          "base_uri": "https://localhost:8080/"
        },
        "outputId": "2e465a1b-137e-4ff0-e079-06ad5f705c03"
      },
      "execution_count": null,
      "outputs": [
        {
          "output_type": "stream",
          "name": "stdout",
          "text": [
            "Enter the length in feet: 3\n",
            "3.0 feet is 36.0 inches.\n"
          ]
        }
      ]
    },
    {
      "cell_type": "markdown",
      "source": [
        "<h2>04_Pythagoras-Theorem"
      ],
      "metadata": {
        "id": "ak3EQEyzhkwF"
      }
    },
    {
      "cell_type": "code",
      "source": [
        "import math  # Importing math module for sqrt function\n",
        "\n",
        "def main():\n",
        "    try:\n",
        "        # Prompt the user for the lengths of the two perpendicular sides\n",
        "        ab = float(input(\"Enter the length of AB: \"))\n",
        "        ac = float(input(\"Enter the length of AC: \"))\n",
        "\n",
        "        # Calculate the hypotenuse using Pythagorean theorem\n",
        "        bc = math.sqrt(ab**2 + ac**2)\n",
        "\n",
        "        # Print the result\n",
        "        print(f\"The length of BC (the hypotenuse) is: {bc}\")\n",
        "\n",
        "    except ValueError:\n",
        "        print(\"Invalid input! Please enter numeric values.\")\n",
        "\n",
        "# Run the main function\n",
        "if __name__ == \"__main__\":\n",
        "    main()\n"
      ],
      "metadata": {
        "id": "Q75k4k2uhu-L"
      },
      "execution_count": null,
      "outputs": []
    },
    {
      "cell_type": "markdown",
      "source": [
        "<h2>05_Remainder-Division"
      ],
      "metadata": {
        "id": "1FkIaS2oh34R"
      }
    },
    {
      "cell_type": "code",
      "source": [
        "def main():\n",
        "    try:\n",
        "        # Prompt user for two integers\n",
        "        num1 = int(input(\"Please enter an integer to be divided: \"))\n",
        "        num2 = int(input(\"Please enter an integer to divide by: \"))\n",
        "\n",
        "        # Check for division by zero\n",
        "        if num2 == 0:\n",
        "            print(\"Error! Division by zero is not allowed.\")\n",
        "            return\n",
        "\n",
        "        # Perform integer division and calculate remainder\n",
        "        quotient = num1 // num2\n",
        "        remainder = num1 % num2\n",
        "\n",
        "        # Print the result\n",
        "        print(f\"The result of this division is {quotient} with a remainder of {remainder}\")\n",
        "\n",
        "    except ValueError:\n",
        "        print(\"Invalid input! Please enter valid integers.\")\n",
        "\n",
        "# Run the main function\n",
        "if __name__ == \"__main__\":\n",
        "    main()\n"
      ],
      "metadata": {
        "id": "f4jiN30sh9vr"
      },
      "execution_count": null,
      "outputs": []
    },
    {
      "cell_type": "markdown",
      "source": [
        "<h2>06_RollDice"
      ],
      "metadata": {
        "id": "x6dMe8MLiK3h"
      }
    },
    {
      "cell_type": "code",
      "source": [
        "import random  # Importing the random module to simulate dice rolls\n",
        "\n",
        "def roll_dice():\n",
        "    # Roll two dice and return their values\n",
        "    die1 = random.randint(1, 6)  # Roll the first die (1 to 6)\n",
        "    die2 = random.randint(1, 6)  # Roll the second die (1 to 6)\n",
        "    return die1, die2  # Return both die results\n",
        "\n",
        "def main():\n",
        "    # Simulate rolling the dice\n",
        "    die1, die2 = roll_dice()\n",
        "\n",
        "    # Calculate the total of both dice\n",
        "    total = die1 + die2\n",
        "\n",
        "    # Print the results\n",
        "    print(f\"Roll 1: Die 1 = {die1}, Die 2 = {die2}\")\n",
        "    print(f\"Total of both rolls: {total}\")\n",
        "\n",
        "# Run the main function\n",
        "if __name__ == \"__main__\":\n",
        "    main()\n"
      ],
      "metadata": {
        "id": "FwHCJxdXiQn_"
      },
      "execution_count": null,
      "outputs": []
    },
    {
      "cell_type": "markdown",
      "source": [
        "<h2>06_Seconds-In-Year"
      ],
      "metadata": {
        "id": "XVoX46WJiYf8"
      }
    },
    {
      "cell_type": "code",
      "source": [
        "def main():\n",
        "    # Define constants\n",
        "    days_in_year = 365\n",
        "    hours_in_day = 24\n",
        "    minutes_in_hour = 60\n",
        "    seconds_in_minute = 60\n",
        "\n",
        "    # Calculate the number of seconds in a year\n",
        "    seconds_in_year = days_in_year * hours_in_day * minutes_in_hour * seconds_in_minute\n",
        "\n",
        "    # Print the result\n",
        "    print(f\"There are {seconds_in_year} seconds in a year!\")\n",
        "\n",
        "# Run the main function\n",
        "if __name__ == \"__main__\":\n",
        "    main()\n"
      ],
      "metadata": {
        "id": "doVmCzAnik4F"
      },
      "execution_count": null,
      "outputs": []
    },
    {
      "cell_type": "markdown",
      "source": [
        "<h2>07_Tiny-Mad-Library"
      ],
      "metadata": {
        "id": "KDqXe877imRZ"
      }
    },
    {
      "cell_type": "code",
      "source": [
        "def main():\n",
        "    # Prompt user for input words\n",
        "    adjective = input(\"Please type an adjective and press enter: \")\n",
        "    noun = input(\"Please type a noun and press enter: \")\n",
        "    verb = input(\"Please type a verb and press enter: \")\n",
        "\n",
        "    # The sentence template\n",
        "    SENTENCE_START = \"Code in Place is fun. I learned to program and used Python to make my\"\n",
        "\n",
        "    # Create the fun sentence\n",
        "    sentence = f\"{SENTENCE_START} {adjective} {noun} {verb}!\"\n",
        "\n",
        "    # Print the completed sentence\n",
        "    print(sentence)\n",
        "\n",
        "# Run the main function\n",
        "if __name__ == \"__main__\":\n",
        "    main()\n"
      ],
      "metadata": {
        "id": "ZYuOhwrhjBSP"
      },
      "execution_count": null,
      "outputs": []
    },
    {
      "cell_type": "markdown",
      "source": [
        "---\n",
        "<h1>02_Lists\n"
      ],
      "metadata": {
        "id": "5LjxbZFzjQaK"
      }
    },
    {
      "cell_type": "markdown",
      "source": [
        "<h2>01_Add-many-numbers"
      ],
      "metadata": {
        "id": "YDt1Y6AtgjIB"
      }
    },
    {
      "cell_type": "code",
      "source": [
        "def sum_of_two(numbers):\n",
        "    if len(numbers) < 2:\n",
        "        return \"The list must contain at least two numbers.\"\n",
        "    return numbers[0] + numbers[1]\n",
        "\n",
        "# Example usage\n",
        "numbers = [5, 10, 15, 20]\n",
        "result = sum_of_two(numbers)\n",
        "print(result)  # Output: 15\n"
      ],
      "metadata": {
        "id": "udE1LKcHgs_e"
      },
      "execution_count": null,
      "outputs": []
    },
    {
      "cell_type": "markdown",
      "source": [
        "<h2>02-Double-list"
      ],
      "metadata": {
        "id": "h_Lee4TIkFcY"
      }
    },
    {
      "cell_type": "code",
      "source": [
        "def double_numbers(numbers):\n",
        "    return [num * 2 for num in numbers]\n",
        "\n",
        "# Example usage\n",
        "numbers = [1, 2, 3, 4]\n",
        "numbers = double_numbers(numbers)\n",
        "print(numbers)  # Output: [2, 4, 6, 8]\n"
      ],
      "metadata": {
        "id": "JnhhM9dhkPJF"
      },
      "execution_count": null,
      "outputs": []
    },
    {
      "cell_type": "markdown",
      "source": [
        "<h2>03-Erase-canvas"
      ],
      "metadata": {
        "id": "G4vcMjnnk1In"
      }
    },
    {
      "cell_type": "code",
      "source": [
        "import tkinter as tk\n",
        "\n",
        "class EraserCanvas:\n",
        "    def __init__(self, root, rows=10, cols=10, cell_size=40):\n",
        "        self.root = root\n",
        "        self.rows = rows\n",
        "        self.cols = cols\n",
        "        self.cell_size = cell_size\n",
        "        self.canvas = tk.Canvas(root, width=cols * cell_size, height=rows * cell_size, bg=\"white\")\n",
        "        self.canvas.pack()\n",
        "\n",
        "        self.cells = {}\n",
        "        self.create_grid()\n",
        "\n",
        "        # Eraser settings\n",
        "        self.eraser_size = cell_size * 2  # Size of eraser\n",
        "        self.eraser = self.canvas.create_rectangle(0, 0, self.eraser_size, self.eraser_size, outline=\"black\", width=2)\n",
        "\n",
        "        self.canvas.bind(\"<B1-Motion>\", self.erase)\n",
        "\n",
        "    def create_grid(self):\n",
        "        \"\"\"Creates a grid of blue cells.\"\"\"\n",
        "        for row in range(self.rows):\n",
        "            for col in range(self.cols):\n",
        "                x1, y1 = col * self.cell_size, row * self.cell_size\n",
        "                x2, y2 = x1 + self.cell_size, y1 + self.cell_size\n",
        "                rect = self.canvas.create_rectangle(x1, y1, x2, y2, fill=\"blue\", outline=\"white\")\n",
        "                self.cells[rect] = (x1, y1, x2, y2)\n",
        "\n",
        "    def erase(self, event):\n",
        "        \"\"\"Erases the blue cells when the eraser moves over them.\"\"\"\n",
        "        x1, y1 = event.x - self.eraser_size // 2, event.y - self.eraser_size // 2\n",
        "        x2, y2 = x1 + self.eraser_size, y1 + self.eraser_size\n",
        "\n",
        "        # Move the eraser\n",
        "        self.canvas.coords(self.eraser, x1, y1, x2, y2)\n",
        "\n",
        "        # Change cells to white if they are within the eraser's area\n",
        "        for rect, (rx1, ry1, rx2, ry2) in self.cells.items():\n",
        "            if not (rx2 < x1 or rx1 > x2 or ry2 < y1 or ry1 > y2):  # Collision detection\n",
        "                self.canvas.itemconfig(rect, fill=\"white\")\n",
        "\n",
        "if __name__ == \"__main__\":\n",
        "    root = tk.Tk()\n",
        "    root.title(\"Eraser Canvas\")\n",
        "    EraserCanvas(root)\n",
        "    root.mainloop()\n"
      ],
      "metadata": {
        "id": "leQgVmZyk6HZ"
      },
      "execution_count": null,
      "outputs": []
    },
    {
      "cell_type": "markdown",
      "source": [
        "<h2>04_Flowing-with-data-structure"
      ],
      "metadata": {
        "id": "qn8_ZPVYlC9E"
      }
    },
    {
      "cell_type": "code",
      "source": [
        "def add_three_copies(lst, data):\n",
        "    \"\"\"Adds three copies of data to the given list.\"\"\"\n",
        "    lst.append(data)\n",
        "    lst.append(data)\n",
        "    lst.append(data)\n",
        "\n",
        "# Get user input\n",
        "message = input(\"Enter a message to copy: \")\n",
        "\n",
        "# Create an empty list\n",
        "my_list = []\n",
        "\n",
        "print(\"\\nList before:\", my_list)\n",
        "\n",
        "# Call the function (modifies the list in place)\n",
        "add_three_copies(my_list, message)\n",
        "\n",
        "print(\"List after:\", my_list)\n"
      ],
      "metadata": {
        "id": "LWArrR12lKr4"
      },
      "execution_count": null,
      "outputs": []
    },
    {
      "cell_type": "markdown",
      "source": [
        "<h2>05_Get-first-element"
      ],
      "metadata": {
        "id": "CYrV1JSJlfo5"
      }
    },
    {
      "cell_type": "code",
      "source": [
        "def get_first_element(lst):\n",
        "    \"\"\"Prints the first element of the given non-empty list.\"\"\"\n",
        "    print(\"First element:\", lst[0])\n",
        "\n",
        "# Get user input\n",
        "n = int(input(\"Enter the number of elements in the list: \"))\n",
        "user_list = []\n",
        "\n",
        "for i in range(n):\n",
        "    element = input(f\"Enter element {i + 1}: \")\n",
        "    user_list.append(element)\n",
        "\n",
        "# Call the function\n",
        "get_first_element(user_list)\n"
      ],
      "metadata": {
        "id": "7mZVOKsOl0Bm"
      },
      "execution_count": null,
      "outputs": []
    },
    {
      "cell_type": "markdown",
      "source": [
        "<h2>06_Get-last-element"
      ],
      "metadata": {
        "id": "-u5C2oswmAxz"
      }
    },
    {
      "cell_type": "code",
      "source": [
        "def get_last_element(lst):\n",
        "    \"\"\"Prints the last element of the given non-empty list.\"\"\"\n",
        "    print(\"Last element:\", lst[-1])\n",
        "\n",
        "# Get user input\n",
        "n = int(input(\"Enter the number of elements in the list: \"))\n",
        "user_list = []\n",
        "\n",
        "for i in range(n):\n",
        "    element = input(f\"Enter element {i + 1}: \")\n",
        "    user_list.append(element)\n",
        "\n",
        "# Call the function\n",
        "get_last_element(user_list)\n"
      ],
      "metadata": {
        "colab": {
          "base_uri": "https://localhost:8080/"
        },
        "id": "yPsvKokOmAdK",
        "outputId": "3bb89d51-2cc0-4a26-b98e-5b318d39ca73"
      },
      "execution_count": null,
      "outputs": [
        {
          "output_type": "stream",
          "name": "stdout",
          "text": [
            "Enter the number of elements in the list: 3\n",
            "Enter element 1: dd\n",
            "Enter element 2: cc\n",
            "Enter element 3: ss\n",
            "Last element: ss\n"
          ]
        }
      ]
    },
    {
      "cell_type": "markdown",
      "source": [
        "<h2>07_Get-list"
      ],
      "metadata": {
        "id": "Tz3qbQmNnzzK"
      }
    },
    {
      "cell_type": "code",
      "source": [
        "def collect_values():\n",
        "    \"\"\"Continuously collects user input into a list until an empty input is given.\"\"\"\n",
        "    values = []\n",
        "\n",
        "    while True:\n",
        "        value = input(\"Enter a value: \")\n",
        "        if value == \"\":  # Stop when user presses enter without typing anything\n",
        "            break\n",
        "        values.append(value)\n",
        "\n",
        "    print(\"Here's the list:\", values)\n",
        "\n",
        "# Run the function\n",
        "collect_values()\n"
      ],
      "metadata": {
        "id": "mSqUDPNAn3uB"
      },
      "execution_count": null,
      "outputs": []
    },
    {
      "cell_type": "markdown",
      "source": [
        "<h2>08_Shorten"
      ],
      "metadata": {
        "id": "3lT8ERwMmMeB"
      }
    },
    {
      "cell_type": "code",
      "source": [
        "MAX_LENGTH = 3  # Set the maximum length\n",
        "\n",
        "def shorten(lst):\n",
        "    \"\"\"Removes elements from the end of lst until it is MAX_LENGTH long.\"\"\"\n",
        "    while len(lst) > MAX_LENGTH:\n",
        "        removed_item = lst.pop()  # Remove the last item\n",
        "        print(\"Removed:\", removed_item)\n",
        "\n",
        "# Main function to get user input\n",
        "def main():\n",
        "    n = int(input(\"Enter the number of elements in the list: \"))\n",
        "    user_list = []\n",
        "\n",
        "    for i in range(n):\n",
        "        element = input(f\"Enter element {i + 1}: \")\n",
        "        user_list.append(element)\n",
        "\n",
        "    print(\"\\nOriginal list:\", user_list)\n",
        "    shorten(user_list)\n",
        "    print(\"Shortened list:\", user_list)\n",
        "\n",
        "# Run the main function\n",
        "main()\n"
      ],
      "metadata": {
        "id": "Gh66lGMTnZ8-"
      },
      "execution_count": null,
      "outputs": []
    },
    {
      "cell_type": "markdown",
      "source": [
        "---\n",
        "<h1>03 If-Statements:\n",
        "\n",
        "---"
      ],
      "metadata": {
        "id": "uIfHOSg_oq53"
      }
    },
    {
      "cell_type": "markdown",
      "source": [
        "<h2>01_print-events"
      ],
      "metadata": {
        "id": "D3bkvL6cow5E"
      }
    },
    {
      "cell_type": "code",
      "source": [
        "# Print the first 20 even numbers\n",
        "for i in range(20):\n",
        "    print(i * 2, end=\" \")  # Multiplying by 2 gives even numbers\n"
      ],
      "metadata": {
        "colab": {
          "base_uri": "https://localhost:8080/"
        },
        "id": "flEWVgDRowDv",
        "outputId": "febd459b-8183-48ac-a618-0c8c481685e3"
      },
      "execution_count": null,
      "outputs": [
        {
          "output_type": "stream",
          "name": "stdout",
          "text": [
            "0 2 4 6 8 10 12 14 16 18 20 22 24 26 28 30 32 34 36 38 "
          ]
        }
      ]
    },
    {
      "cell_type": "markdown",
      "source": [
        "<h2>02_International-voting"
      ],
      "metadata": {
        "id": "Wg7jLJMPpEy1"
      }
    },
    {
      "cell_type": "code",
      "source": [
        "# Get user's age\n",
        "age = int(input(\"How old are you? \"))\n",
        "\n",
        "# Define voting ages\n",
        "voting_ages = {\n",
        "    \"Peturksbouipo\": 16,\n",
        "    \"Stanlau\": 25,\n",
        "    \"Mayengua\": 48\n",
        "}\n",
        "\n",
        "# Check voting eligibility\n",
        "for country, min_age in voting_ages.items():\n",
        "    if age >= min_age:\n",
        "        print(f\"You can vote in {country} where the voting age is {min_age}.\")\n",
        "    else:\n",
        "        print(f\"You cannot vote in {country} where the voting age is {min_age}.\")\n"
      ],
      "metadata": {
        "id": "sb08dyKUpNjK"
      },
      "execution_count": null,
      "outputs": []
    },
    {
      "cell_type": "markdown",
      "source": [
        "<h2>03_Leap-Year"
      ],
      "metadata": {
        "id": "bIhOwdqipZgd"
      }
    },
    {
      "cell_type": "code",
      "source": [
        "# Get user input\n",
        "year = int(input(\"Enter a year: \"))\n",
        "\n",
        "# Check if it's a leap year\n",
        "if (year % 4 == 0 and year % 100 != 0) or (year % 400 == 0):\n",
        "    print(\"That's a leap year!\")\n",
        "else:\n",
        "    print(\"That's not a leap year.\")\n"
      ],
      "metadata": {
        "id": "zsuHQ9JwpcOl"
      },
      "execution_count": null,
      "outputs": []
    },
    {
      "cell_type": "markdown",
      "source": [
        "<h2>04_Tall-enough-to-ride"
      ],
      "metadata": {
        "id": "U7hL6ULOp5cE"
      }
    },
    {
      "cell_type": "code",
      "source": [
        "def tall_enough_extension():\n",
        "    \"\"\"Repeatedly asks for height and checks if the user is tall enough until no input is given.\"\"\"\n",
        "    MIN_HEIGHT = 50  # Minimum height requirement\n",
        "\n",
        "    while True:\n",
        "        height = input(\"How tall are you? \")\n",
        "\n",
        "        if height == \"\":  # Stop when user enters nothing\n",
        "            print(\"Exiting program.\")\n",
        "            break\n",
        "\n",
        "        height = int(height)  # Convert input to integer\n",
        "\n",
        "        if height >= MIN_HEIGHT:\n",
        "            print(\"You're tall enough to ride!\")\n",
        "        else:\n",
        "            print(\"You're not tall enough to ride, but maybe next year!\")\n",
        "\n",
        "# Run the function\n",
        "tall_enough_extension()\n"
      ],
      "metadata": {
        "id": "LGgRMpHDqBqe"
      },
      "execution_count": null,
      "outputs": []
    },
    {
      "cell_type": "markdown",
      "source": [
        "<h2>05_Random-numbers"
      ],
      "metadata": {
        "id": "jyLIqm7IqXwQ"
      }
    },
    {
      "cell_type": "code",
      "source": [
        "import random  # Import the random module\n",
        "\n",
        "# Generate and print 10 random numbers in the range 1 to 100\n",
        "for _ in range(10):\n",
        "    print(random.randint(1, 100), end=\" \")  # Print numbers on the same line\n",
        "\n",
        "print()  # Move to a new line after printing all numbers\n"
      ],
      "metadata": {
        "id": "BmxNBqiuqchO"
      },
      "execution_count": null,
      "outputs": []
    },
    {
      "cell_type": "markdown",
      "source": [
        "---\n",
        "<h1>04_Dictionaries:\n",
        "\n",
        "---"
      ],
      "metadata": {
        "id": "gUqQ--U9qqoe"
      }
    },
    {
      "cell_type": "markdown",
      "source": [
        "<h2>00_Count-Nums"
      ],
      "metadata": {
        "id": "InJUpGWXrJNN"
      }
    },
    {
      "cell_type": "code",
      "source": [
        "def count_numbers():\n",
        "    \"\"\"Counts the occurrences of numbers entered by the user.\"\"\"\n",
        "    number_counts = {}  # Dictionary to store counts\n",
        "\n",
        "    while True:\n",
        "        num = input(\"Enter a number (or press Enter to stop): \")\n",
        "        if num == \"\":  # Stop when user presses Enter without input\n",
        "            break\n",
        "\n",
        "        num = int(num)  # Convert input to integer\n",
        "\n",
        "        if num in number_counts:\n",
        "            number_counts[num] += 1  # Increase count if number exists\n",
        "        else:\n",
        "            number_counts[num] = 1  # Initialize count if new number\n",
        "\n",
        "    # Print occurrences\n",
        "    print(\"\\nNumber counts:\")\n",
        "    for num, count in number_counts.items():\n",
        "        print(f\"{num} appears {count} time{'s' if count > 1 else ''}.\")\n",
        "\n",
        "# Run the function\n",
        "count_numbers()\n"
      ],
      "metadata": {
        "id": "2oUFCcuerO1V"
      },
      "execution_count": null,
      "outputs": []
    },
    {
      "cell_type": "markdown",
      "source": [
        "<h2>01_Phonebook"
      ],
      "metadata": {
        "id": "AHBWVLMVrcSo"
      }
    },
    {
      "cell_type": "code",
      "source": [
        "def phonebook_app():\n",
        "    \"\"\"Simple phonebook using a dictionary.\"\"\"\n",
        "    phonebook = {}  # Dictionary to store names and phone numbers\n",
        "\n",
        "    while True:\n",
        "        print(\"\\nPhonebook Menu:\")\n",
        "        print(\"1. Add Contact\")\n",
        "        print(\"2. View Contacts\")\n",
        "        print(\"3. Search Contact\")\n",
        "        print(\"4. Delete Contact\")\n",
        "        print(\"5. Exit\")\n",
        "\n",
        "        choice = input(\"Choose an option: \")\n",
        "\n",
        "        if choice == \"1\":\n",
        "            name = input(\"Enter contact name: \")\n",
        "            number = input(\"Enter phone number: \")\n",
        "            phonebook[name] = number  # Add contact to dictionary\n",
        "            print(f\"Added {name}: {number}\")\n",
        "\n",
        "        elif choice == \"2\":\n",
        "            if not phonebook:\n",
        "                print(\"Phonebook is empty.\")\n",
        "            else:\n",
        "                print(\"\\nContacts:\")\n",
        "                for name, number in phonebook.items():\n",
        "                    print(f\"{name}: {number}\")\n",
        "\n",
        "        elif choice == \"3\":\n",
        "            name = input(\"Enter name to search: \")\n",
        "            if name in phonebook:\n",
        "                print(f\"{name}: {phonebook[name]}\")\n",
        "            else:\n",
        "                print(f\"{name} not found in phonebook.\")\n",
        "\n",
        "        elif choice == \"4\":\n",
        "            name = input(\"Enter name to delete: \")\n",
        "            if name in phonebook:\n",
        "                del phonebook[name]\n",
        "                print(f\"{name} deleted from phonebook.\")\n",
        "            else:\n",
        "                print(f\"{name} not found in phonebook.\")\n",
        "\n",
        "        elif choice == \"5\":\n",
        "            print(\"Exiting phonebook. Goodbye!\")\n",
        "            break\n",
        "\n",
        "        else:\n",
        "            print(\"Invalid choice. Please enter a number between 1-5.\")\n",
        "\n",
        "# Run the phonebook application\n",
        "phonebook_app()\n"
      ],
      "metadata": {
        "id": "AZLvYuacrjZD"
      },
      "execution_count": null,
      "outputs": []
    },
    {
      "cell_type": "markdown",
      "source": [
        "<h2>02_PopupShop"
      ],
      "metadata": {
        "id": "-L5J8RF7sKnO"
      }
    },
    {
      "cell_type": "code",
      "source": [
        "# Dictionary of available fruits and their prices per unit\n",
        "fruit_prices = {\n",
        "    \"apple\": 5.0,\n",
        "    \"durian\": 15.0,\n",
        "    \"jackfruit\": 20.0,\n",
        "    \"kiwi\": 8.5,\n",
        "    \"rambutan\": 7.0,\n",
        "    \"mango\": 12.5\n",
        "}\n",
        "\n",
        "def calculate_total():\n",
        "    \"\"\"Asks the user how many of each fruit they want and calculates the total cost.\"\"\"\n",
        "    total_cost = 0.0  # Variable to store total price\n",
        "\n",
        "    for fruit, price in fruit_prices.items():\n",
        "        quantity = int(input(f\"How many ({fruit}) do you want?: \"))\n",
        "        total_cost += quantity * price  # Calculate cost for this fruit\n",
        "\n",
        "    print(f\"\\nYour total is ${total_cost:.2f}\")  # Print total with 2 decimal places\n",
        "\n",
        "# Run the program\n",
        "calculate_total()\n"
      ],
      "metadata": {
        "id": "G2LU1EMIsRSu"
      },
      "execution_count": null,
      "outputs": []
    },
    {
      "cell_type": "markdown",
      "source": [
        "<h2>03_Powerful-passwrords"
      ],
      "metadata": {
        "id": "oDyiXxsisZNi"
      }
    },
    {
      "cell_type": "code",
      "source": [
        "import hashlib\n",
        "\n",
        "def hash_password(password):\n",
        "    \"\"\"Hashes a password using SHA-256.\"\"\"\n",
        "    return hashlib.sha256(password.encode()).hexdigest()\n",
        "\n",
        "# Simulated stored logins with pre-hashed passwords\n",
        "stored_logins = {\n",
        "    \"user1@example.com\": hash_password(\"mypassword123\"),\n",
        "    \"user2@example.com\": hash_password(\"securepass456\"),\n",
        "    \"user3@example.com\": hash_password(\"letmein789\")\n",
        "}\n",
        "\n",
        "def login(email, password_to_check):\n",
        "    \"\"\"Checks if the given email and password match stored hashed credentials.\"\"\"\n",
        "    if email in stored_logins:\n",
        "        return stored_logins[email] == hash_password(password_to_check)\n",
        "    return False\n",
        "\n",
        "# Example usage\n",
        "email = input(\"Enter your email: \")\n",
        "password = input(\"Enter your password: \")\n",
        "\n",
        "if login(email, password):\n",
        "    print(\"Login successful!\")\n",
        "else:\n",
        "    print(\"Invalid email or password.\")\n"
      ],
      "metadata": {
        "id": "msQ95EHBsj4G"
      },
      "execution_count": null,
      "outputs": []
    },
    {
      "cell_type": "markdown",
      "source": [
        "---\n",
        "<h1>05_Loops-control-flow:\n",
        "\n",
        "---"
      ],
      "metadata": {
        "id": "scj1L3uytbGL"
      }
    },
    {
      "cell_type": "markdown",
      "source": [
        "<h2>00_Guess-my-number"
      ],
      "metadata": {
        "id": "biRKMVQhtlck"
      }
    },
    {
      "cell_type": "code",
      "source": [
        "import random\n",
        "\n",
        "def guess_my_number():\n",
        "    \"\"\"A number guessing game where the user tries to guess a randomly chosen number.\"\"\"\n",
        "    secret_number = random.randint(0, 99)  # Random number between 0 and 99\n",
        "    print(\"I am thinking of a number between 0 and 99...\")\n",
        "\n",
        "    while True:\n",
        "        try:\n",
        "            guess = int(input(\"Enter a guess: \"))\n",
        "\n",
        "            if guess < secret_number:\n",
        "                print(\"Your guess is too low\")\n",
        "            elif guess > secret_number:\n",
        "                print(\"Your guess is too high\")\n",
        "            else:\n",
        "                print(f\"Congrats! The number was: {secret_number}\")\n",
        "                break  # Exit the loop once guessed correctly\n",
        "        except ValueError:\n",
        "            print(\"Please enter a valid number.\")\n",
        "\n",
        "# Run the game\n",
        "guess_my_number()\n"
      ],
      "metadata": {
        "id": "SJzJ68lTtuK9"
      },
      "execution_count": null,
      "outputs": []
    },
    {
      "cell_type": "markdown",
      "source": [
        "<h2>01_Fibonacci"
      ],
      "metadata": {
        "id": "EZWE6P_It6SJ"
      }
    },
    {
      "cell_type": "code",
      "source": [
        "# Define the maximum limit for the Fibonacci sequence\n",
        "MAX_VALUE = 10000\n",
        "\n",
        "def fibonacci_sequence():\n",
        "    \"\"\"Prints Fibonacci sequence terms up to MAX_VALUE.\"\"\"\n",
        "    a, b = 0, 1  # First two Fibonacci numbers\n",
        "\n",
        "    while a < MAX_VALUE:\n",
        "        print(a, end=\" \")  # Print the current number\n",
        "        a, b = b, a + b  # Update values for the next term\n",
        "\n",
        "# Run the function\n",
        "fibonacci_sequence()\n"
      ],
      "metadata": {
        "id": "uDvY3ZWEuKsh"
      },
      "execution_count": null,
      "outputs": []
    },
    {
      "cell_type": "markdown",
      "source": [
        "<h2>02_Print-events"
      ],
      "metadata": {
        "id": "LZhslOSuuN_j"
      }
    },
    {
      "cell_type": "code",
      "source": [
        "def print_even_numbers():\n",
        "    \"\"\"Prints the first 20 even numbers.\"\"\"\n",
        "    count = 0  # Track how many even numbers have been printed\n",
        "    num = 0    # Start from the first even number (0)\n",
        "\n",
        "    while count < 20:\n",
        "        print(num, end=\" \")  # Print the even number\n",
        "        num += 2  # Move to the next even number\n",
        "        count += 1  # Increment the counter\n",
        "\n",
        "# Run the function\n",
        "print_even_numbers()\n"
      ],
      "metadata": {
        "id": "Ng8uToaqwl7C"
      },
      "execution_count": null,
      "outputs": []
    },
    {
      "cell_type": "markdown",
      "source": [
        "<h2>03_Wholesome-machine"
      ],
      "metadata": {
        "id": "kfPrRpvqwuoc"
      }
    },
    {
      "cell_type": "code",
      "source": [
        "# The affirmation that the user must type exactly\n",
        "AFFIRMATION = \"I am capable of doing anything I put my mind to.\"\n",
        "\n",
        "def get_affirmation():\n",
        "    \"\"\"Keeps asking the user to type the affirmation until they get it right.\"\"\"\n",
        "    while True:\n",
        "        user_input = input(\"Please type the following affirmation: \")\n",
        "\n",
        "        if user_input == AFFIRMATION:\n",
        "            print(\"That's right! :)\")\n",
        "            break  # Exit the loop once the correct affirmation is entered\n",
        "        else:\n",
        "            print(\"Hmmm. That was not the affirmation. Try again.\")\n",
        "\n",
        "# Run the program\n",
        "get_affirmation()\n"
      ],
      "metadata": {
        "id": "rOolTmy1w4Uv"
      },
      "execution_count": null,
      "outputs": []
    },
    {
      "cell_type": "markdown",
      "source": [
        "<h2>04_Liftoff"
      ],
      "metadata": {
        "id": "d2XJzPnjxCvM"
      }
    },
    {
      "cell_type": "code",
      "source": [
        "def countdown():\n",
        "    \"\"\"Counts down from 10 to 1 and prints 'Liftoff!' at the end.\"\"\"\n",
        "    for i in range(10, 0, -1):  # Start at 10, go down to 1\n",
        "        print(i, end=\" \")  # Print numbers on the same line\n",
        "    print(\"Liftoff!\")  # Print Liftoff after countdown ends\n",
        "\n",
        "# Run the countdown\n",
        "countdown()\n"
      ],
      "metadata": {
        "id": "RjC31SFhxNo4"
      },
      "execution_count": null,
      "outputs": []
    },
    {
      "cell_type": "markdown",
      "source": [
        "<h2>05_Double-it"
      ],
      "metadata": {
        "id": "eZ7rdIGKxwbU"
      }
    },
    {
      "cell_type": "code",
      "source": [
        "def double_until_100():\n",
        "    \"\"\"Asks for a number, then doubles it until it reaches or exceeds 100.\"\"\"\n",
        "    curr_value = int(input(\"Enter a number: \"))  # Get user input as an integer\n",
        "\n",
        "    while curr_value < 100:\n",
        "        curr_value *= 2  # Double the value\n",
        "        print(curr_value, end=\" \")  # Print the new value on the same line\n",
        "\n",
        "# Run the program\n",
        "double_until_100()\n"
      ],
      "metadata": {
        "id": "Qcxwntd8x0WH"
      },
      "execution_count": null,
      "outputs": []
    },
    {
      "cell_type": "markdown",
      "source": [
        "---\n",
        "<h1>06_Functions:\n",
        "\n",
        "---"
      ],
      "metadata": {
        "id": "6OXT1OdA0gar"
      }
    },
    {
      "cell_type": "markdown",
      "source": [
        "<h2>00_Averages"
      ],
      "metadata": {
        "id": "augwq2qp0slu"
      }
    },
    {
      "cell_type": "code",
      "source": [
        "def average(num1, num2):\n",
        "    \"\"\"Returns the average of two numbers.\"\"\"\n",
        "    return (num1 + num2) / 2\n",
        "\n",
        "# Example usage:\n",
        "num1 = float(input(\"Enter first number: \"))\n",
        "num2 = float(input(\"Enter second number: \"))\n",
        "\n",
        "print(\"The average is:\", average(num1, num2))\n"
      ],
      "metadata": {
        "id": "SEQcgy6p00yA"
      },
      "execution_count": null,
      "outputs": []
    },
    {
      "cell_type": "markdown",
      "source": [
        "<h2>01_Chaotic-counting"
      ],
      "metadata": {
        "id": "VjhsxAT-My1K"
      }
    },
    {
      "cell_type": "code",
      "source": [
        "import random\n",
        "\n",
        "DONE_LIKELIHOOD = 0.2  # Adjust this value to change the likelihood of stopping\n",
        "\n",
        "def done():\n",
        "    \"\"\"Returns True with a likelihood of DONE_LIKELIHOOD, otherwise False.\"\"\"\n",
        "    return random.random() < DONE_LIKELIHOOD\n",
        "\n",
        "def chaotic_counting():\n",
        "    \"\"\"Counts from 1 to 10 but stops randomly based on the done() function.\"\"\"\n",
        "    for i in range(1, 11):\n",
        "        if done():\n",
        "            return  # Stops counting and exits the function\n",
        "        print(i)\n",
        "\n",
        "def main():\n",
        "    print(\"I'm going to count until 10 or until I feel like stopping, whichever comes first.\")\n",
        "    chaotic_counting()\n",
        "    print(\"I'm done.\")\n",
        "\n",
        "# Run the main function\n",
        "main()\n"
      ],
      "metadata": {
        "id": "2BOT8rNAM2Hd"
      },
      "execution_count": null,
      "outputs": []
    },
    {
      "cell_type": "markdown",
      "source": [
        "<h2>02_Count-even"
      ],
      "metadata": {
        "id": "7zhbEtdENDAM"
      }
    },
    {
      "cell_type": "code",
      "source": [
        "def count_even():\n",
        "    \"\"\"Prompts the user for integers until they press enter, then prints the count of even numbers.\"\"\"\n",
        "    numbers = []  # List to store user inputs\n",
        "\n",
        "    while True:\n",
        "        user_input = input(\"Enter an integer or press enter to stop: \")\n",
        "        if user_input == \"\":  # Stop when the user presses enter\n",
        "            break\n",
        "        try:\n",
        "            numbers.append(int(user_input))  # Convert input to integer and add to the list\n",
        "        except ValueError:\n",
        "            print(\"Please enter a valid integer.\")\n",
        "\n",
        "    # Count even numbers in the list\n",
        "    even_count = sum(1 for num in numbers if num % 2 == 0)\n",
        "    print(f\"Number of even numbers: {even_count}\")\n",
        "\n",
        "# Run the function\n",
        "count_even()\n"
      ],
      "metadata": {
        "id": "NgNKRbSPN04N"
      },
      "execution_count": null,
      "outputs": []
    },
    {
      "cell_type": "markdown",
      "source": [
        "<h2>03_Double"
      ],
      "metadata": {
        "id": "MSWr8ndlNI48"
      }
    },
    {
      "cell_type": "code",
      "source": [
        "def double(num):\n",
        "    \"\"\"Returns the result of multiplying num by 2.\"\"\"\n",
        "    return num * 2\n",
        "\n",
        "def main():\n",
        "    \"\"\"Asks the user for a number, doubles it, and prints the result.\"\"\"\n",
        "    num = float(input(\"Enter a number: \"))  # Accepts any numeric input (integer or decimal)\n",
        "    print(f\"Double that is {double(num)}\")\n",
        "\n",
        "# Run the program\n",
        "main()\n"
      ],
      "metadata": {
        "id": "ZMQbHsAmN7sF"
      },
      "execution_count": null,
      "outputs": []
    },
    {
      "cell_type": "markdown",
      "source": [
        "<h2>04_Get-Name"
      ],
      "metadata": {
        "id": "eQ_xm08UNNb7"
      }
    },
    {
      "cell_type": "code",
      "source": [
        "def get_name():\n",
        "    \"\"\"Returns the name as a string.\"\"\"\n",
        "    return \"Sophia\"  # The autograder expects \"Sophia\"\n",
        "\n",
        "def main():\n",
        "    \"\"\"Calls get_name() and prints a greeting.\"\"\"\n",
        "    name = get_name()\n",
        "    print(f\"Howdy {name}! 🤠\")\n",
        "\n",
        "# Run the program\n",
        "main()\n"
      ],
      "metadata": {
        "id": "T6cEfSL5OEn6"
      },
      "execution_count": null,
      "outputs": []
    },
    {
      "cell_type": "markdown",
      "source": [
        "<h2>05_Is-Odd"
      ],
      "metadata": {
        "id": "uvwLDawrNQgb"
      }
    },
    {
      "cell_type": "code",
      "source": [
        "for num in range(10, 20):\n",
        "    if num % 2 == 0:\n",
        "        print(f\"{num} even\", end=\" \")\n",
        "    else:\n",
        "        print(f\"{num} odd\", end=\" \")\n"
      ],
      "metadata": {
        "id": "bWZjpCo6OL9Q"
      },
      "execution_count": null,
      "outputs": []
    },
    {
      "cell_type": "markdown",
      "source": [
        "<h2>06_Print-Divisor"
      ],
      "metadata": {
        "id": "lJeTWlfHNUdx"
      }
    },
    {
      "cell_type": "code",
      "source": [
        "def print_divisors(num):\n",
        "    print(f\"Here are the divisors of {num}:\")\n",
        "    for i in range(1, num + 1):\n",
        "        if num % i == 0:\n",
        "            print(i, end=\" \")\n",
        "    print()  # Newline for formatting\n",
        "\n",
        "def main():\n",
        "    num = int(input(\"Enter a number: \"))\n",
        "    print_divisors(num)\n",
        "\n",
        "main()\n"
      ],
      "metadata": {
        "id": "PFlVKYjMOVKv"
      },
      "execution_count": null,
      "outputs": []
    },
    {
      "cell_type": "markdown",
      "source": [
        "<h2>07_Print-Multiple"
      ],
      "metadata": {
        "id": "0g9eXKq-NjgG"
      }
    },
    {
      "cell_type": "code",
      "source": [
        "def print_multiple(message, repeats):\n",
        "    for _ in range(repeats):\n",
        "        print(message)\n",
        "\n",
        "def main():\n",
        "    message = input(\"Please type a message: \")\n",
        "    repeats = int(input(\"Enter a number of times to repeat your message: \"))\n",
        "    print_multiple(message, repeats)\n",
        "\n",
        "main()\n"
      ],
      "metadata": {
        "id": "j8y_XUbyOcXh"
      },
      "execution_count": null,
      "outputs": []
    },
    {
      "cell_type": "markdown",
      "source": [
        "<h2>08_Sentence-Generator"
      ],
      "metadata": {
        "id": "N4luhj3CNp6M"
      }
    },
    {
      "cell_type": "code",
      "source": [
        "def make_sentence(word, part_of_speech):\n",
        "    if part_of_speech == 0:\n",
        "        print(f\"I am excited to add this {word} to my vast collection of them!\")\n",
        "    elif part_of_speech == 1:\n",
        "        print(f\"It's so nice outside today it makes me want to {word}!\")\n",
        "    elif part_of_speech == 2:\n",
        "        print(f\"Looking out my window, the sky is big and {word}!\")\n",
        "    else:\n",
        "        print(\"Invalid part of speech. Please enter 0, 1, or 2.\")\n",
        "\n",
        "def main():\n",
        "    word = input(\"Please type a noun, verb, or adjective: \")\n",
        "    part_of_speech = int(input(\"Is this a noun, verb, or adjective? Type 0 for noun, 1 for verb, 2 for adjective: \"))\n",
        "    make_sentence(word, part_of_speech)\n",
        "\n",
        "main()\n"
      ],
      "metadata": {
        "id": "OVPL_zM0Ojqw"
      },
      "execution_count": null,
      "outputs": []
    },
    {
      "cell_type": "markdown",
      "source": [
        "<h2>09_Print-ones-digit"
      ],
      "metadata": {
        "id": "ltWpEUBVNt3M"
      }
    },
    {
      "cell_type": "code",
      "source": [
        "def print_ones_digit(num):\n",
        "    ones_digit = num % 10\n",
        "    print(f\"The ones digit is {ones_digit}\")\n",
        "\n",
        "def main():\n",
        "    num = int(input(\"Enter a number: \"))\n",
        "    print_ones_digit(num)\n",
        "\n",
        "main()\n"
      ],
      "metadata": {
        "id": "e1pe8c36Orkx"
      },
      "execution_count": null,
      "outputs": []
    },
    {
      "cell_type": "markdown",
      "source": [
        "---\n",
        "<h1>07_Information-Flow:\n",
        "\n",
        "---"
      ],
      "metadata": {
        "id": "MYbKFmgNO8XW"
      }
    },
    {
      "cell_type": "markdown",
      "source": [
        "<h2>00_Choosing-Returns"
      ],
      "metadata": {
        "id": "H97wjbrOPDna"
      }
    },
    {
      "cell_type": "code",
      "source": [
        "ADULT_AGE = 18  # Define the legal adult age\n",
        "\n",
        "def is_adult(age):\n",
        "    return age >= ADULT_AGE  # Returns True if age is 18 or more, otherwise False\n",
        "\n",
        "def main():\n",
        "    age = int(input(\"How old is this person?: \"))\n",
        "    print(is_adult(age))\n",
        "\n",
        "main()\n"
      ],
      "metadata": {
        "id": "Y0vzhCq6Q4ut"
      },
      "execution_count": null,
      "outputs": []
    },
    {
      "cell_type": "markdown",
      "source": [
        "<h2>01_Greetings"
      ],
      "metadata": {
        "id": "7rgI18HkPQiG"
      }
    },
    {
      "cell_type": "code",
      "source": [
        "def greet(name):\n",
        "    print(f\"Greetings {name}!\")\n",
        "\n",
        "def main():\n",
        "    name = input(\"What's your name? \")\n",
        "    greet(name)\n",
        "\n",
        "main()\n"
      ],
      "metadata": {
        "id": "FoV6ibmJQ_Pk"
      },
      "execution_count": null,
      "outputs": []
    },
    {
      "cell_type": "markdown",
      "source": [
        "<h2>02_In-Range"
      ],
      "metadata": {
        "id": "joxOD3h9PTn9"
      }
    },
    {
      "cell_type": "code",
      "source": [
        "def in_range(n, low, high):\n",
        "    \"\"\"Returns True if n is between low and high, inclusive.\"\"\"\n",
        "    return low <= n <= high\n",
        "\n",
        "# Example usage\n",
        "print(in_range(5, 1, 10))  # True\n",
        "print(in_range(15, 1, 10)) # False\n",
        "print(in_range(10, 10, 20)) # True\n"
      ],
      "metadata": {
        "id": "lV-trmj3RGbP"
      },
      "execution_count": null,
      "outputs": []
    },
    {
      "cell_type": "markdown",
      "source": [
        "<h2>03_In-Stock"
      ],
      "metadata": {
        "id": "F068NuN6PX6D"
      }
    },
    {
      "cell_type": "code",
      "source": [
        "def num_in_stock(fruit):\n",
        "    # Example inventory (you can modify this dictionary)\n",
        "    inventory = {\n",
        "        \"apple\": 20,\n",
        "        \"banana\": 15,\n",
        "        \"pear\": 1000,\n",
        "        \"orange\": 30,\n",
        "        \"grape\": 50\n",
        "    }\n",
        "    return inventory.get(fruit, 0)  # Returns count or 0 if fruit is not in inventory\n",
        "\n",
        "def main():\n",
        "    fruit = input(\"Enter a fruit: \").strip().lower()  # Get user input and normalize case\n",
        "    stock = num_in_stock(fruit)  # Check stock\n",
        "\n",
        "    if stock > 0:\n",
        "        print(\"This fruit is in stock! Here is how many:\")\n",
        "        print(stock)\n",
        "    else:\n",
        "        print(\"This fruit is not in stock.\")\n",
        "\n",
        "# Run the main function\n",
        "main()\n"
      ],
      "metadata": {
        "id": "7aAXeRLFRRJ7"
      },
      "execution_count": null,
      "outputs": []
    },
    {
      "cell_type": "markdown",
      "source": [
        "<h2>04_Multiple-returns"
      ],
      "metadata": {
        "id": "zQwDCVEWPbCt"
      }
    },
    {
      "cell_type": "code",
      "source": [
        "def get_user_data():\n",
        "    first_name = input(\"What is your first name?: \").strip()\n",
        "    last_name = input(\"What is your last name?: \").strip()\n",
        "    email = input(\"What is your email address?: \").strip()\n",
        "\n",
        "    return first_name, last_name, email  # Returning multiple values as a tuple\n",
        "\n",
        "def main():\n",
        "    user_data = get_user_data()  # Call function and store returned tuple\n",
        "    print(\"Received the following user data:\", user_data)\n",
        "\n",
        "# Run the program\n",
        "main()\n"
      ],
      "metadata": {
        "id": "1PD9jRiTRTRk"
      },
      "execution_count": null,
      "outputs": []
    },
    {
      "cell_type": "markdown",
      "source": [
        "<h2>05_Subtract-7"
      ],
      "metadata": {
        "id": "MkVZ70f9Pi5G"
      }
    },
    {
      "cell_type": "code",
      "source": [
        "def subtract_seven(num):\n",
        "    return num - 7  # Subtracts 7 from the given number\n",
        "\n",
        "def main():\n",
        "    number = int(input(\"Enter a number: \"))  # Get user input\n",
        "    result = subtract_seven(number)  # Call the helper function\n",
        "    print(\"Result after subtracting 7:\", result)  # Print the result\n",
        "\n",
        "# Run the program\n",
        "main()\n"
      ],
      "metadata": {
        "id": "kdIfCmvqO8A8"
      },
      "execution_count": null,
      "outputs": []
    },
    {
      "cell_type": "markdown",
      "source": [
        "# **ASSIGNMENTS 01 (Online-Class-Projects)**\n",
        "\n",
        "---\n",
        "---\n",
        "\n"
      ],
      "metadata": {
        "id": "K7JlsJ-sOzBH"
      }
    },
    {
      "cell_type": "markdown",
      "source": [
        "<h1>01_Basics\n",
        "\n",
        "\n",
        "---\n",
        "\n"
      ],
      "metadata": {
        "id": "EUF2mltsPQpy"
      }
    },
    {
      "cell_type": "markdown",
      "source": [
        "<h2>00_Joke-Bot"
      ],
      "metadata": {
        "id": "RX4sl6FsXbN_"
      }
    },
    {
      "cell_type": "code",
      "source": [
        "# Constants\n",
        "PROMPT = \"What do you want? \"\n",
        "JOKE = \"\"\"Here is a joke for you!\n",
        "Panaversity GPT - Sophia is heading out to the grocery store.\n",
        "A programmer tells her: get a liter of milk, and if they have eggs, get 12.\n",
        "Sophia returns with 13 liters of milk.\n",
        "The programmer asks why and Sophia replies: 'because they had eggs'\"\"\"\n",
        "SORRY = \"Sorry, I only tell jokes.\"\n",
        "\n",
        "def joke_bot():\n",
        "    user_input = input(PROMPT)\n",
        "    if user_input == \"Joke\":\n",
        "        print(JOKE)\n",
        "    else:\n",
        "        print(SORRY)\n",
        "\n",
        "# Run the joke bot\n",
        "joke_bot()\n"
      ],
      "metadata": {
        "id": "cSMoC0E6OyO9"
      },
      "execution_count": null,
      "outputs": []
    },
    {
      "cell_type": "markdown",
      "source": [
        "<h2>01_Double-it"
      ],
      "metadata": {
        "id": "O7rZckcVYWZY"
      }
    },
    {
      "cell_type": "code",
      "source": [
        "def double_until_100():\n",
        "    curr_value = int(input(\"Enter a number: \"))  # Get user input as an integer\n",
        "\n",
        "    while curr_value < 100:\n",
        "        curr_value *= 2  # Double the current value\n",
        "        print(curr_value)  # Print the updated value\n",
        "\n",
        "# Run the function\n",
        "double_until_100()\n"
      ],
      "metadata": {
        "id": "FQ8toZHIZXGg"
      },
      "execution_count": null,
      "outputs": []
    },
    {
      "cell_type": "markdown",
      "source": [
        "<h2>02_Liftoff"
      ],
      "metadata": {
        "id": "n6UCBa1aYpDY"
      }
    },
    {
      "cell_type": "code",
      "source": [
        "def spaceship_countdown():\n",
        "    for i in range(10, 0, -1):  # Countdown from 10 to 1\n",
        "        print(i, end=\" \")  # Print numbers on the same line with space\n",
        "    print(\"Liftoff!\")  # Print Liftoff after the countdown\n",
        "\n",
        "# Run the function\n",
        "spaceship_countdown()\n"
      ],
      "metadata": {
        "id": "sc3jRSRHZdi0"
      },
      "execution_count": null,
      "outputs": []
    },
    {
      "cell_type": "markdown",
      "source": [
        "<h2>03_Guess-number"
      ],
      "metadata": {
        "id": "7cKS3lsMYz7h"
      }
    },
    {
      "cell_type": "code",
      "source": [
        "import random\n",
        "\n",
        "def guess_my_number():\n",
        "    secret_number = random.randint(0, 99)  # Generate a random number between 0 and 99\n",
        "    print(\"I am thinking of a number between 0 and 99...\")\n",
        "\n",
        "    while True:\n",
        "        try:\n",
        "            guess = int(input(\"Enter a guess: \"))  # Get user input as an integer\n",
        "\n",
        "            if guess < secret_number:\n",
        "                print(\"Your guess is too low\\n\")\n",
        "            elif guess > secret_number:\n",
        "                print(\"Your guess is too high\\n\")\n",
        "            else:\n",
        "                print(f\"Congrats! The number was: {secret_number}\")\n",
        "                break  # Exit loop when guessed correctly\n",
        "\n",
        "        except ValueError:\n",
        "            print(\"Please enter a valid integer.\")\n",
        "\n",
        "# Run the game\n",
        "guess_my_number()\n"
      ],
      "metadata": {
        "id": "WUw-lykJZk-9"
      },
      "execution_count": null,
      "outputs": []
    },
    {
      "cell_type": "markdown",
      "source": [
        "<h2>04_Random-Numbers"
      ],
      "metadata": {
        "id": "xAUhqadHZM4J"
      }
    },
    {
      "cell_type": "code",
      "source": [
        "import random\n",
        "\n",
        "def print_random_numbers():\n",
        "    for _ in range(10):  # Loop 10 times\n",
        "        print(random.randint(1, 100), end=\" \")  # Generate and print a random number\n",
        "\n",
        "    print()  # Move to a new line after printing all numbers\n",
        "\n",
        "# Run the function\n",
        "print_random_numbers()\n"
      ],
      "metadata": {
        "id": "ug3XMU-HZsPW"
      },
      "execution_count": null,
      "outputs": []
    },
    {
      "cell_type": "markdown",
      "source": [
        "\n",
        "\n",
        "---\n",
        "<h1>02_Intermediate\n",
        "\n",
        "---\n",
        "\n",
        "\n"
      ],
      "metadata": {
        "id": "1Rg8SYD5ZyYd"
      }
    },
    {
      "cell_type": "markdown",
      "source": [
        "<h2>Control-Flow-For-Console"
      ],
      "metadata": {
        "id": "R-79DSZ8aGNB"
      }
    },
    {
      "cell_type": "code",
      "source": [
        "import random\n",
        "\n",
        "NUM_ROUNDS = 5\n",
        "\n",
        "def main():\n",
        "    print(\"Welcome to the High-Low Game!\")\n",
        "    print('--------------------------------')\n",
        "\n",
        "    # Milestone 5: keep track of your score\n",
        "    your_score = 0\n",
        "\n",
        "    # Milestone 4: Play multiple rounds\n",
        "    for i in range(NUM_ROUNDS):\n",
        "        print(\"Round\", i + 1)\n",
        "        # Milestone 1: Generate the random numbers and print them out\n",
        "        computer_num = random.randint(1, 100)\n",
        "        your_num = random.randint(1, 100)\n",
        "        print(\"Your number is\", your_num)\n",
        "\n",
        "        # Milestone 2: Get user input for their choice\n",
        "        choice = input(\"Do you think your number is higher or lower than the computer's?: \")\n",
        "\n",
        "        # Extension 1: Make sure the player inputs a valid choice (higher or lower)\n",
        "        while choice != \"higher\" and choice != \"lower\":\n",
        "            choice = input(\"Please enter either higher or lower: \")\n",
        "\n",
        "        # Milestone 3: Map out all the ways to win the round\n",
        "        higher_and_correct = choice == \"higher\" and your_num > computer_num\n",
        "        lower_and_correct = choice == \"lower\" and your_num < computer_num\n",
        "\n",
        "        if higher_and_correct or lower_and_correct:\n",
        "            print(\"You were right! The computer's number was\", computer_num)\n",
        "            # Milestone 5: keep track of your score\n",
        "            your_score += 1\n",
        "        else:\n",
        "            print(\"Aww, that's incorrect. The computer's number was\", computer_num)\n",
        "\n",
        "        # Milestone 5: keep track of your score\n",
        "        print(\"Your score is now\", your_score)\n",
        "        print()\n",
        "\n",
        "    # Extension 2: Conditional ending messages based on performance\n",
        "    print(\"Your final score is\", your_score)\n",
        "\n",
        "    if your_score == NUM_ROUNDS:\n",
        "        print(\"Wow! You played perfectly!\")\n",
        "    elif your_score > NUM_ROUNDS // 2:\n",
        "        print(\"Good job, you played really well!\")\n",
        "    else:\n",
        "        print(\"Better luck next time!\")\n",
        "\n",
        "if __name__ == \"__main__\":\n",
        "    main()\n"
      ],
      "metadata": {
        "id": "DO7AKQFxalSM"
      },
      "execution_count": null,
      "outputs": []
    },
    {
      "cell_type": "markdown",
      "source": [
        "<h2>Intro-To-Python"
      ],
      "metadata": {
        "id": "eH5W0roPaUNq"
      }
    },
    {
      "cell_type": "code",
      "source": [
        "# Prompt the user for the name of a planet\n",
        "planet = input(\"Enter a planet: \")\n",
        "\n",
        "# Determine the gravitational constant for the selected planet\n",
        "if planet == \"Mercury\":\n",
        "    gravity_constant = MERCURY_GRAVITY\n",
        "elif planet == \"Venus\":\n",
        "    gravity_constant = VENUS_GRAVITY\n",
        "elif planet == \"Mars\":\n",
        "    gravity_constant = MARS_GRAVITY\n",
        "elif planet == \"Jupiter\":\n",
        "    gravity_constant = JUPITER_GRAVITY\n",
        "elif planet == \"Saturn\":\n",
        "    gravity_constant = SATURN_GRAVITY\n",
        "elif planet == \"Uranus\":\n",
        "    gravity_constant = URANUS_GRAVITY\n",
        "else:\n",
        "    # can assume user types in one of these planets, so this can be an else instead of elif\n",
        "    gravity_constant = NEPTUNE_GRAVITY\n",
        "\n",
        "# Calculate the equivalent weight on the selected planet\n",
        "planetary_weight = earth_weight * gravity_constant\n",
        "rounded_planetary_weight = round(planetary_weight, 2)\n",
        "\n",
        "# Print the result\n",
        "print(\"The equivalent weight on \" + planet + \":  \" + str(rounded_planetary_weight))"
      ],
      "metadata": {
        "id": "sVSqy2SXaxlY"
      },
      "execution_count": null,
      "outputs": []
    },
    {
      "cell_type": "markdown",
      "source": [
        "<h2>List-And-Dicts"
      ],
      "metadata": {
        "id": "KG51RhT3ay5b"
      }
    },
    {
      "cell_type": "code",
      "source": [
        "def access_element(lst, index):\n",
        "    try:\n",
        "        return lst[index]\n",
        "    except IndexError:\n",
        "        return \"Index out of range.\"\n",
        "\n",
        "def modify_element(lst, index, new_value):\n",
        "    try:\n",
        "        lst[index] = new_value\n",
        "        return lst\n",
        "    except IndexError:\n",
        "        return \"Index out of range.\"\n",
        "\n",
        "def slice_list(lst, start, end):\n",
        "    try:\n",
        "        return lst[start:end]\n",
        "    except IndexError:\n",
        "        return \"Invalid indices.\"\n",
        "\n",
        "def index_game():\n",
        "    lst = [1, 2, 3, 4, 5]  # Example list\n",
        "    print(\"Current list:\", lst)\n",
        "    print(\"Choose an operation: access, modify, slice\")\n",
        "    operation = input(\"Enter operation: \")\n",
        "\n",
        "    if operation == \"access\":\n",
        "        index = int(input(\"Enter index to access: \"))\n",
        "        print(access_element(lst, index))\n",
        "    elif operation == \"modify\":\n",
        "        index = int(input(\"Enter index to modify: \"))\n",
        "        new_value = input(\"Enter new value: \")\n",
        "        print(modify_element(lst, index, new_value))\n",
        "    elif operation == \"slice\":\n",
        "        start = int(input(\"Enter start index: \"))\n",
        "        end = int(input(\"Enter end index: \"))\n",
        "        print(slice_list(lst, start, end))\n",
        "    else:\n",
        "        print(\"Invalid operation.\")\n",
        "\n",
        "index_game()\n"
      ],
      "metadata": {
        "id": "0luP505qa6Jr"
      },
      "execution_count": null,
      "outputs": []
    },
    {
      "cell_type": "markdown",
      "source": [
        "<h2>03_Advanced-Topics </br> Assignment 03-07 has been submitted in 25 projects.\n",
        "Here are the github links:\n",
        "\n",
        "---\n",
        "\n",
        "\n",
        "\n",
        "\n",
        "*   <h3>03-Qrcode-Encoder-Decoder </br> https://github.com/javeria-kamran/25-python-projects/tree/master/project_08-QR'encoder%2Cdecoder\n",
        "*   <h3>04-Tic-Tac-Toe </br> https://github.com/javeria-kamran/25-python-projects/tree/master/project_09-tictactoe\n",
        "*   <h3>05-Binary-Search </br> https://github.com/javeria-kamran/25-python-projects/tree/master/project_11-binarysearch\n",
        "*   <h3>06-Bulk-File-Renamer </br> https://github.com/javeria-kamran/25-python-projects/tree/master/project_22-bulkfilerenamer\n",
        "*   <h3>07_Wheather-program-python-project </br> https://github.com/javeria-kamran/25-python-projects/tree/master/project_23-wheather-program\n",
        "\n",
        "\n",
        "\n",
        "\n"
      ],
      "metadata": {
        "id": "2sem4MJCbQI3"
      }
    },
    {
      "cell_type": "markdown",
      "source": [
        "\n",
        "---\n",
        "<h2>08_Country-information-cards\n",
        "github-link: </br> https://github.com/javeria-kamran/Country-Information-Cards\n",
        "deployed-link: </br> https://country-information-cards-miraejk.streamlit.app/\n",
        "\n",
        "---\n",
        "\n",
        "\n",
        "\n",
        "---\n",
        "\n",
        "\n",
        "\n"
      ],
      "metadata": {
        "id": "FBsVLApqfJTs"
      }
    },
    {
      "cell_type": "markdown",
      "source": [
        "# Assignments 01-06 (Projects-to-be-done-by-every-student)\n",
        "\n",
        "---\n",
        "\n",
        "\n",
        "\n",
        "---\n",
        "\n"
      ],
      "metadata": {
        "id": "1yh3Z32aqIsA"
      }
    },
    {
      "cell_type": "markdown",
      "source": [
        "<h1>Project_01: Mad-Libs-Python"
      ],
      "metadata": {
        "id": "EpDvhbeqqn8q"
      }
    },
    {
      "cell_type": "code",
      "source": [
        "import re\n",
        "import time\n",
        "\n",
        "def mad_libs():\n",
        "    # Clear screen (Not needed in Colab)\n",
        "    print(\"\\n\" * 2)\n",
        "\n",
        "    # Story templates\n",
        "    stories = {\n",
        "        1: {\n",
        "            'title': \"Space Adventure\",\n",
        "            'template': \"\"\"\n",
        "            In the year __YEAR__, a __ADJECTIVE__ astronaut named __PERSON__ discovered a __ADJECTIVE__\n",
        "            __ANIMAL__ on planet __PLACE__. The __ANIMAL__ had __NUMBER__ __COLOR__ eyes and could\n",
        "            speak __LANGUAGE__. Together, they fought against __ADJECTIVE__ space __NOUN__ using\n",
        "            __FOOD__-powered __NOUN__. \"This is __ADVERB__ __ADJECTIVE__!\" shouted __PERSON__.\n",
        "            \"\"\"\n",
        "        },\n",
        "        2: {\n",
        "            'title': \"Magical Kingdom\",\n",
        "            'template': \"\"\"\n",
        "            Once upon a time in __PLACE__, there lived a __ADJECTIVE__ __ANIMAL__ who could __VERB__\n",
        "            __ADVERB__. One day, it found a __COLOR__ __NOUN__ containing __NUMBER__ __FOOD__ items.\n",
        "            The kingdom's __OCCUPATION__ declared this \"The __ADJECTIVE__ __EVENT__ of the century!\"\n",
        "            Everyone celebrated by __VERB_ENDING_IN_ING__ __ADVERB__ until __PERSON__ arrived riding\n",
        "            a __ADJECTIVE__ __ANIMAL__.\n",
        "            \"\"\"\n",
        "        },\n",
        "        3: {\n",
        "            'title': \"Crazy School Day\",\n",
        "            'template': \"\"\"\n",
        "            At __PLACE__ High School, our __ADJECTIVE__ teacher Mr./Ms. __PERSON__ taught us how to\n",
        "            __VERB__ __ADVERB__ while balancing __NUMBER__ __ANIMAL__ on their __BODY_PART__. Suddenly,\n",
        "            a __ADJECTIVE__ __NOUN__ burst in shouting \"__EXCLAMATION__!\" We all __VERB_ED__ __ADVERB__\n",
        "            and learned __ADJECTIVE__ __NOUN__ instead.\n",
        "            \"\"\"\n",
        "        }\n",
        "    }\n",
        "\n",
        "    # Story selection\n",
        "    print(\"\\nChoose your story:\")\n",
        "    for num, story in stories.items():\n",
        "        print(f\"{num}. {story['title']}\")\n",
        "\n",
        "    while True:\n",
        "        try:\n",
        "            choice = int(input(\"\\nEnter story number (1-3): \"))\n",
        "            if 1 <= choice <= 3:\n",
        "                break\n",
        "            print(\"Please enter 1, 2, or 3!\")\n",
        "        except ValueError:\n",
        "            print(\"That's not a number!\")\n",
        "\n",
        "    story = stories[choice]['template']\n",
        "    placeholders = re.findall(r\"(__\\w+__)\", story)\n",
        "\n",
        "    # Input collection\n",
        "    inputs = []\n",
        "    print(\"\\nLet's fill in the blanks! \")\n",
        "\n",
        "    hints = {\n",
        "        'ADJECTIVE': '(e.g., fluffy, terrifying)',\n",
        "        'NOUN': '(e.g., banana, spaceship)',\n",
        "        'VERB': '(action word)',\n",
        "        'ADVERB': '(ends with -ly)',\n",
        "        'ANIMAL': '(e.g., platypus, dragon)',\n",
        "        'COLOR': '',\n",
        "        'NUMBER': '',\n",
        "        'PLACE': '(e.g., Mars, Taco Bell)',\n",
        "        'PERSON': '(name)',\n",
        "        'FOOD': '',\n",
        "        'OCCUPATION': '(e.g., dentist, wizard)',\n",
        "        'EVENT': '(e.g., Festival, Disaster)',\n",
        "        'BODY_PART': '',\n",
        "        'EXCLAMATION': '(with !)',\n",
        "        'YEAR': '(4 digits)',\n",
        "        'LANGUAGE': '(e.g., Klingon, Python)',\n",
        "        'VERB_ENDING_IN_ING': '(ends with -ing)',\n",
        "        'VERB_ED': '(past tense verb)'\n",
        "    }\n",
        "\n",
        "    for i, ph_pattern in enumerate(placeholders, 1):\n",
        "        ph = ph_pattern.strip('_')\n",
        "        hint_text = hints.get(ph, '')\n",
        "\n",
        "        while True:\n",
        "            answer = input(f\"{i}. Enter {ph.lower()} {hint_text}: \").strip()\n",
        "            if answer:\n",
        "                inputs.append(answer)\n",
        "                break\n",
        "            print(\"Don't leave it blank! Try again.\")\n",
        "\n",
        "    # Build the story\n",
        "    parts = re.split(r\"(__\\w+__)\", story)\n",
        "    for i in range(len(parts)):\n",
        "        if re.match(r\"__\\w+__\", parts[i]):\n",
        "            parts[i] = inputs.pop(0)\n",
        "\n",
        "    final_story = ''.join(parts)\n",
        "\n",
        "    # Display result\n",
        "    print(\"\\nGenerating your story\", end=\"\")\n",
        "    for _ in range(3):\n",
        "        time.sleep(0.3)\n",
        "        print(\".\", end=\"\", flush=True)\n",
        "\n",
        "    print(\"\\n\\n\" + \"=\" * 50)\n",
        "    print(\"Here's Your Epic Story!\\n\")\n",
        "    print(final_story)\n",
        "    print(\"=\" * 50 + \"\\n\")\n",
        "\n",
        "    # Save option with validation\n",
        "    save_choice = input(\"Save story to file? (y/n): \").lower()\n",
        "    if save_choice == 'y':\n",
        "        while True:\n",
        "            filename = input(\"Enter filename (e.g., my_story.txt): \").strip()\n",
        "            if filename:  # Check if filename is not empty\n",
        "                try:\n",
        "                    with open(filename, 'w') as f:\n",
        "                        f.write(final_story)\n",
        "                    print(f\"Story saved to {filename}!\")\n",
        "                    break\n",
        "                except Exception as e:\n",
        "                    print(f\"Error saving file: {e}\")\n",
        "            else:\n",
        "                print(\"Filename cannot be empty!\")\n",
        "\n",
        "    # Play again\n",
        "    if input(\"\\nPlay again? (y/n): \").lower() == 'y':\n",
        "        mad_libs()\n",
        "    else:\n",
        "        print(\"\\nThanks for playing! Keep being awesome!\\n\")\n",
        "\n",
        "# Start the game\n",
        "if __name__ == \"__main__\":\n",
        "    mad_libs()\n"
      ],
      "metadata": {
        "colab": {
          "base_uri": "https://localhost:8080/"
        },
        "id": "6P8R-5S9q0u3",
        "outputId": "88241efd-9400-458b-b4c0-a4ef65ede771"
      },
      "execution_count": null,
      "outputs": [
        {
          "metadata": {
            "tags": null
          },
          "name": "stdout",
          "output_type": "stream",
          "text": [
            "\n",
            "\n",
            "\n",
            "\n",
            "Choose your story:\n",
            "1. Space Adventure\n",
            "2. Magical Kingdom\n",
            "3. Crazy School Day\n"
          ]
        }
      ]
    },
    {
      "cell_type": "markdown",
      "source": [
        "<h2>Project_02: Guess-the-number-game(Computer)"
      ],
      "metadata": {
        "id": "dCyriCBrrxUU"
      }
    },
    {
      "cell_type": "code",
      "source": [
        "import random\n",
        "import time\n",
        "\n",
        "def computer_guess(x):\n",
        "    # Game introduction\n",
        "    print(\"\\n\" * 2)  # Space instead of clearing the screen\n",
        "    print(r\"\"\"\n",
        "     ____                 _   _\n",
        "    / ___|_ __ ___  __ _| |_(_)_ __   __ _ ___\n",
        "   | |   | '__/ _ \\/ _` | __| | '_ \\ / _` / __|\n",
        "   | |___| | |  __/ (_| | |_| | | | | (_| \\__ \\\n",
        "    \\____|_|  \\___|\\__,_|\\__|_|_| |_|\\__, |___/\n",
        "                                     |___/\n",
        "    \"\"\")\n",
        "\n",
        "    print(f\"\\nThink of a number between 1 and {x}...\")\n",
        "    time.sleep(1.5)\n",
        "    print(\"\\nThe computer will try to guess it!\")\n",
        "    time.sleep(1)\n",
        "\n",
        "    low = 1\n",
        "    high = x\n",
        "    attempts = 0\n",
        "    feedback = ''\n",
        "    guess_history = []\n",
        "\n",
        "    while feedback != 'c':\n",
        "        attempts += 1\n",
        "        if low != high:\n",
        "            guess = random.randint(low, high)\n",
        "        else:\n",
        "            guess = low\n",
        "\n",
        "        print(f\"\\nAttempt #{attempts}\")\n",
        "        print(f\"Previous guesses: {guess_history[-3:] if guess_history else 'None'}\")\n",
        "\n",
        "        while True:\n",
        "            feedback = input(f'Is {guess} too high (H), too low (L), or correct (C)? ').lower()\n",
        "            if feedback in ['h', 'l', 'c']:\n",
        "                break\n",
        "            print(\"Please enter H, L, or C!\")\n",
        "\n",
        "        guess_history.append(guess)\n",
        "\n",
        "        if feedback == 'h':\n",
        "            high = guess - 1\n",
        "            print(f\"Okay, I'll guess lower than {guess}...\")\n",
        "        elif feedback == 'l':\n",
        "            low = guess + 1\n",
        "            print(f\"Okay, I'll guess higher than {guess}...\")\n",
        "        time.sleep(0.7)\n",
        "\n",
        "    # Victory celebration\n",
        "    print(\"\\n\" + \"★\" * 50)\n",
        "    print(f\"\\nYay! The computer guessed your number, {guess}, correctly!\")\n",
        "    print(f\"It only took {attempts} attempts!\")\n",
        "\n",
        "    # Performance rating\n",
        "    if attempts <= 5:\n",
        "        rating = \"amazing\"\n",
        "    elif attempts <= 10:\n",
        "        rating = \"good\"\n",
        "    else:\n",
        "        rating = \"not bad\"\n",
        "\n",
        "    print(f\"\\nThat's {rating} performance!\")\n",
        "    print(\"★\" * 50)\n",
        "\n",
        "    # Play again option\n",
        "    if input(\"\\nPlay again? (y/n): \").lower() == 'y':\n",
        "        max_num = int(input(\"Enter the maximum number to guess: \"))\n",
        "        computer_guess(max_num)\n",
        "    else:\n",
        "        print(\"\\nThanks for playing! Goodbye!\\n\")\n",
        "\n",
        "# Start the game with configurable range\n",
        "max_number = int(input(\"Enter the maximum number for the game: \"))\n",
        "computer_guess(max_number)\n"
      ],
      "metadata": {
        "id": "lEDEXwGQse6F"
      },
      "execution_count": null,
      "outputs": []
    },
    {
      "cell_type": "markdown",
      "source": [
        "<h1>Project_03: Guess-The-Number-Game(User)"
      ],
      "metadata": {
        "id": "Do47ihb2tj5m"
      }
    },
    {
      "cell_type": "code",
      "source": [
        "import random\n",
        "import time\n",
        "\n",
        "def guess_game():\n",
        "    # Fancy Header\n",
        "    print(\"\\n\" * 2)  # Adds spacing instead of clearing the screen\n",
        "    print(r\"\"\"\n",
        "     ____\n",
        "    / ___|_   _  ___  ___ ___\n",
        "    \\___ \\ | | |/ _ \\/ __/ __|\n",
        "     ___) || |_|  __/\\__ \\__ \\\n",
        "    |____/ \\__,_|\\___||___/___/\n",
        "    \"\"\")\n",
        "    time.sleep(0.5)\n",
        "\n",
        "    # Game configuration\n",
        "    max_number = 0\n",
        "    while max_number <= 1:\n",
        "        try:\n",
        "            max_number = int(input(\"\\nEnter the maximum number for the game (minimum 2): \"))\n",
        "            if max_number <= 1:\n",
        "                print(\"Please enter a number greater than 1!\")\n",
        "        except ValueError:\n",
        "            print(\"Please enter a valid number!\")\n",
        "\n",
        "    # Game setup\n",
        "    random_number = random.randint(1, max_number)\n",
        "    attempts = 0\n",
        "    guess_history = []\n",
        "\n",
        "    print(f\"\\nI'm thinking of a number between 1 and {max_number}...\")\n",
        "    time.sleep(1)\n",
        "    print(\"Can you guess it?\\n\")\n",
        "    time.sleep(0.5)\n",
        "\n",
        "    # Main game loop\n",
        "    while True:\n",
        "        try:\n",
        "            guess = int(input(f\"Guess a number between 1 and {max_number}: \"))\n",
        "\n",
        "            if guess < 1 or guess > max_number:\n",
        "                print(f\"Please enter a number between 1 and {max_number}!\")\n",
        "                continue\n",
        "\n",
        "            attempts += 1\n",
        "            guess_history.append(guess)\n",
        "\n",
        "            if guess < random_number:\n",
        "                print(\"Too low! ↑ Try higher ↑\")\n",
        "            elif guess > random_number:\n",
        "                print(\"Too high! ↓ Try lower ↓\")\n",
        "            else:\n",
        "                break\n",
        "\n",
        "        except ValueError:\n",
        "            print(\"Please enter a valid number!\")\n",
        "\n",
        "    # Victory celebration\n",
        "    print(\"\\n\" + \"★\" * 50)\n",
        "    print(f\"\\n🎉 Congratulations! You guessed the number {random_number} correctly!\")\n",
        "    print(f\"📊 Total attempts: {attempts}\")\n",
        "\n",
        "    # Display guess history\n",
        "    print(\"\\nYour guess history:\")\n",
        "    for i, g in enumerate(guess_history, 1):\n",
        "        if g < random_number:\n",
        "            print(f\"{i}. {g} (Too low)\")\n",
        "        elif g > random_number:\n",
        "            print(f\"{i}. {g} (Too high)\")\n",
        "        else:\n",
        "            print(f\"{i}. {g} (Correct!)\")\n",
        "\n",
        "    # Performance rating\n",
        "    perfect = max_number // 4\n",
        "    good = max_number // 2\n",
        "\n",
        "    if attempts <= perfect:\n",
        "        rating = \"EXCELLENT\"\n",
        "    elif attempts <= good:\n",
        "        rating = \"Great\"\n",
        "    else:\n",
        "        rating = \"Good\"\n",
        "\n",
        "    print(f\"\\n🏆 Performance: {rating}!\")\n",
        "    print(\"★\" * 50)\n",
        "\n",
        "    # Play again option\n",
        "    if input(\"\\nPlay again? (y/n): \").lower() == 'y':\n",
        "        guess_game()\n",
        "    else:\n",
        "        print(\"\\nThanks for playing! Goodbye!\\n\")\n",
        "\n",
        "# Start the game\n",
        "if __name__ == \"__main__\":\n",
        "    guess_game()\n"
      ],
      "metadata": {
        "id": "VnjKdAyrt1Wt"
      },
      "execution_count": null,
      "outputs": []
    },
    {
      "cell_type": "markdown",
      "source": [
        "<h1>Project_04: Rock-Paper-Scissor"
      ],
      "metadata": {
        "id": "WOVOG6cQt2hx"
      }
    },
    {
      "cell_type": "code",
      "source": [
        "import random\n",
        "import time\n",
        "\n",
        "def play_game():\n",
        "    # Fancy Header\n",
        "    print(\"\\n\" * 2)  # Adds spacing instead of clearing the screen\n",
        "    print(r\"\"\"\n",
        "     ____            _        ___                 ____\n",
        "    |  _ \\ ___   ___| | __   / _ \\ _ __   ___   / ___|_ __ ___  ___ ___\n",
        "    | |_) / _ \\ / __| |/ /  | | | | '_ \\ / __| | |   | '__/ _ \\/ __/ __|\n",
        "    |  _ < (_) | (__|   <   | |_| | |_) | (__  | |___| | | (_) \\__ \\__ \\\n",
        "    |_| \\_\\___/ \\___|_|\\_\\   \\___/| .__/ \\___|  \\____|_|  \\___/|___/___/\n",
        "                                  |_|\n",
        "    \"\"\")\n",
        "    time.sleep(0.5)\n",
        "\n",
        "    # Game variables\n",
        "    wins = 0\n",
        "    losses = 0\n",
        "    ties = 0\n",
        "    round_count = 1\n",
        "    choices = {'r': 'Rock', 'p': 'Paper', 's': 'Scissors'}\n",
        "    emojis = {'r': '✊', 'p': '✋', 's': '✌️'}\n",
        "    win_conditions = {'r': 's', 's': 'p', 'p': 'r'}\n",
        "\n",
        "    print(\"\\nWelcome to Rock-Paper-Scissors!\")\n",
        "    print(\"First to 3 wins becomes the champion!\\n\")\n",
        "\n",
        "    while wins < 3 and losses < 3:\n",
        "        print(f\"\\n--- Round {round_count} ---\")\n",
        "        print(f\"Score: You {wins} - {losses} Computer\")\n",
        "\n",
        "        # Get user input with validation\n",
        "        while True:\n",
        "            user = input(\"\\nChoose: (R)ock ✊, (P)aper ✋, (S)cissors ✌️, or (Q)uit: \").lower()\n",
        "            if user in ['r', 'p', 's', 'q']:\n",
        "                break\n",
        "            print(\"Invalid choice! Please enter R, P, S, or Q\")\n",
        "\n",
        "        if user == 'q':\n",
        "            print(\"\\nThanks for playing!\")\n",
        "            return\n",
        "\n",
        "        computer = random.choice(['r', 'p', 's'])\n",
        "\n",
        "        # Display choices with emojis\n",
        "        print(f\"\\nYou chose: {choices[user]} {emojis[user]}\")\n",
        "        print(f\"Computer chose: {choices[computer]} {emojis[computer]}\")\n",
        "\n",
        "        # Determine winner\n",
        "        if user == computer:\n",
        "            print(\"\\nIt's a tie!\")\n",
        "            ties += 1\n",
        "        elif win_conditions[user] == computer:\n",
        "            print(\"\\nYou win this round!\")\n",
        "            wins += 1\n",
        "        else:\n",
        "            print(\"\\nComputer wins this round!\")\n",
        "            losses += 1\n",
        "\n",
        "        round_count += 1\n",
        "        time.sleep(1)\n",
        "\n",
        "    # Game over message\n",
        "    print(\"\\n\" + \"★\" * 50)\n",
        "    if wins == 3:\n",
        "        print(\"\\n🎉 YOU ARE THE CHAMPION! 🎉\")\n",
        "    else:\n",
        "        print(\"\\n💻 Computer wins the game! 💻\")\n",
        "\n",
        "    print(f\"\\nFinal Score: You {wins} - {losses} Computer\")\n",
        "    print(f\"Ties: {ties}\")\n",
        "    print(\"★\" * 50)\n",
        "\n",
        "    # Play again option\n",
        "    if input(\"\\nPlay again? (y/n): \").lower() == 'y':\n",
        "        play_game()\n",
        "    else:\n",
        "        print(\"\\nThanks for playing! Goodbye!\\n\")\n",
        "\n",
        "# Start the game\n",
        "if __name__ == \"__main__\":\n",
        "    play_game()\n"
      ],
      "metadata": {
        "id": "lzjYTCmIt_IB"
      },
      "execution_count": null,
      "outputs": []
    },
    {
      "cell_type": "markdown",
      "source": [
        "<h1>Project_05: Hangman-Python-Project"
      ],
      "metadata": {
        "id": "LieYd_LluMZX"
      }
    },
    {
      "cell_type": "code",
      "source": [
        "import random\n",
        "import time\n",
        "\n",
        "# Hangman visuals\n",
        "HANGMAN_PICS = [\n",
        "    \"\"\"\n",
        "       ------\n",
        "       |    |\n",
        "            |\n",
        "            |\n",
        "            |\n",
        "            |\n",
        "    =========\"\"\",\n",
        "    \"\"\"\n",
        "       ------\n",
        "       |    |\n",
        "       O    |\n",
        "            |\n",
        "            |\n",
        "            |\n",
        "    =========\"\"\",\n",
        "    \"\"\"\n",
        "       ------\n",
        "       |    |\n",
        "       O    |\n",
        "       |    |\n",
        "            |\n",
        "            |\n",
        "    =========\"\"\",\n",
        "    \"\"\"\n",
        "       ------\n",
        "       |    |\n",
        "       O    |\n",
        "      /|    |\n",
        "            |\n",
        "            |\n",
        "    =========\"\"\",\n",
        "    \"\"\"\n",
        "       ------\n",
        "       |    |\n",
        "       O    |\n",
        "      /|\\\\   |\n",
        "            |\n",
        "            |\n",
        "    =========\"\"\",\n",
        "    \"\"\"\n",
        "       ------\n",
        "       |    |\n",
        "       O    |\n",
        "      /|\\\\   |\n",
        "      /     |\n",
        "            |\n",
        "    =========\"\"\",\n",
        "    \"\"\"\n",
        "       ------\n",
        "       |    |\n",
        "       O    |\n",
        "      /|\\\\   |\n",
        "      / \\\\   |\n",
        "            |\n",
        "    =========\"\"\",\n",
        "]\n",
        "\n",
        "# Word list\n",
        "WORDS = [\"python\", \"collab\", \"notebook\", \"function\", \"variable\", \"developer\", \"machine\", \"learning\", \"artificial\", \"programming\"]\n",
        "\n",
        "def choose_word():\n",
        "    return random.choice(WORDS).upper()\n",
        "\n",
        "def display_game(hidden_word, guessed_letters, attempts):\n",
        "    print(HANGMAN_PICS[attempts])\n",
        "    print(\"\\nWord:\", \" \".join(hidden_word))\n",
        "    print(\"Guessed Letters:\", \", \".join(guessed_letters))\n",
        "    print(f\"Remaining Attempts: {6 - attempts}\\n\")\n",
        "\n",
        "def hangman():\n",
        "    print(\"\\n🎩 Welcome to Hangman! Try to guess the word before you run out of attempts! 🎯\")\n",
        "    time.sleep(1)\n",
        "\n",
        "    word = choose_word()\n",
        "    hidden_word = [\"_\" for _ in word]\n",
        "    guessed_letters = []\n",
        "    attempts = 0\n",
        "\n",
        "    while attempts < 6 and \"_\" in hidden_word:\n",
        "        display_game(hidden_word, guessed_letters, attempts)\n",
        "\n",
        "        guess = input(\"Enter a letter: \").upper()\n",
        "\n",
        "        # Validation\n",
        "        if not guess.isalpha() or len(guess) != 1:\n",
        "            print(\"❌ Invalid input! Please enter a single letter.\\n\")\n",
        "            continue\n",
        "\n",
        "        if guess in guessed_letters:\n",
        "            print(\"⚠️ You already guessed that letter! Try again.\\n\")\n",
        "            continue\n",
        "\n",
        "        guessed_letters.append(guess)\n",
        "\n",
        "        if guess in word:\n",
        "            print(\"✅ Correct guess!\\n\")\n",
        "            for i in range(len(word)):\n",
        "                if word[i] == guess:\n",
        "                    hidden_word[i] = guess\n",
        "        else:\n",
        "            print(\"❌ Wrong guess!\\n\")\n",
        "            attempts += 1\n",
        "\n",
        "        time.sleep(1)\n",
        "\n",
        "    # Game Over\n",
        "    display_game(hidden_word, guessed_letters, attempts)\n",
        "    if \"_\" not in hidden_word:\n",
        "        print(f\"🎉 Congratulations! You guessed the word: {word} 🎊\\n\")\n",
        "    else:\n",
        "        print(f\"💀 Game Over! The word was: {word} 😢\\n\")\n",
        "\n",
        "    # Play again option\n",
        "    if input(\"Play again? (y/n): \").lower() == 'y':\n",
        "        hangman()\n",
        "    else:\n",
        "        print(\"\\nThanks for playing! Goodbye! 👋\\n\")\n",
        "\n",
        "# Start the game\n",
        "if __name__ == \"__main__\":\n",
        "    hangman()\n"
      ],
      "metadata": {
        "id": "TL6AMPKXuQpV"
      },
      "execution_count": null,
      "outputs": []
    },
    {
      "cell_type": "markdown",
      "source": [
        "<h1>Project_06: Countdown-Timer"
      ],
      "metadata": {
        "id": "NvYAGECbufP-"
      }
    },
    {
      "cell_type": "code",
      "source": [
        "import time\n",
        "import sys\n",
        "\n",
        "def display_intro():\n",
        "    print(\"\\n🚀 Welcome to the Ultimate Countdown Timer! 🚀\\n\")\n",
        "    print(\"----------------------------------------\\n\")\n",
        "\n",
        "def get_time_input():\n",
        "    while True:\n",
        "        try:\n",
        "            time_input = input(\"Enter time (MM:SS or seconds): \")\n",
        "\n",
        "            if ':' in time_input:\n",
        "                mins, secs = map(int, time_input.split(':'))\n",
        "                if mins < 0 or secs < 0 or secs >= 60:\n",
        "                    raise ValueError\n",
        "                return mins * 60 + secs\n",
        "            else:\n",
        "                secs = int(time_input)\n",
        "                if secs < 0:\n",
        "                    raise ValueError\n",
        "                return secs\n",
        "\n",
        "        except ValueError:\n",
        "            print(\"❌ Invalid input! Please use MM:SS format or positive seconds\")\n",
        "\n",
        "def countdown(t):\n",
        "    original_time = t\n",
        "    paused = False\n",
        "    remaining_time = t\n",
        "\n",
        "    while remaining_time > 0:\n",
        "        mins, secs = divmod(remaining_time, 60)\n",
        "        timeformat = f\"{mins:02d}:{secs:02d}\"\n",
        "\n",
        "        # Progress bar visualization\n",
        "        progress = int(30 * (remaining_time / original_time))\n",
        "        progress_bar = f\"{'█' * progress}{'░' * (30 - progress)}\"\n",
        "\n",
        "        print(f\"\\n⏳ Time Remaining: {timeformat}\")\n",
        "        print(f\"Progress: {progress_bar} {remaining_time/original_time:.0%}\")\n",
        "        print(\"\\n(Enter P = Pause, R = Reset, Q = Quit)\")\n",
        "\n",
        "        time.sleep(1)\n",
        "\n",
        "        # Pause, Reset, or Quit\n",
        "        user_input = input(\"\\n(Press Enter to continue or type P/R/Q): \").strip().upper()\n",
        "        if user_input == 'P':\n",
        "            input(\"⏸️ Paused! Press Enter to resume...\")\n",
        "        elif user_input == 'R':\n",
        "            print(\"🔄 Resetting Timer...\\n\")\n",
        "            return True  # Restart countdown\n",
        "        elif user_input == 'Q':\n",
        "            print(\"👋 Quitting Timer...\\n\")\n",
        "            return False  # Exit countdown\n",
        "\n",
        "        remaining_time -= 1\n",
        "\n",
        "    print(\"\\n⏰ TIME'S UP! ⏰ 🎉\")\n",
        "    time.sleep(2)\n",
        "    return True  # Restart after completion\n",
        "\n",
        "def main():\n",
        "    display_intro()\n",
        "\n",
        "    while True:\n",
        "        total_seconds = get_time_input()\n",
        "        should_restart = countdown(total_seconds)\n",
        "\n",
        "        if not should_restart:\n",
        "            break\n",
        "\n",
        "        if input(\"\\nStart another timer? (y/n): \").lower() != 'y':\n",
        "            break\n",
        "\n",
        "    print(\"\\nThanks for using the Ultimate Countdown Timer! Goodbye! 👋\\n\")\n",
        "\n",
        "if __name__ == '__main__':\n",
        "    main()\n"
      ],
      "metadata": {
        "id": "mqAUc9THue6X"
      },
      "execution_count": null,
      "outputs": []
    },
    {
      "cell_type": "markdown",
      "source": [
        "<h1>Project_07: Password-Generator"
      ],
      "metadata": {
        "id": "dJWuHsDovGVp"
      }
    },
    {
      "cell_type": "code",
      "source": [
        "import string\n",
        "import secrets\n",
        "\n",
        "def display_banner():\n",
        "    print(r\"\"\"\n",
        "     ____                            ____                                      _\n",
        "    |  _ \\ __ _ ___ ___  ___ _ __   / ___|___  _ __ ___  _ __ ___   ___ _ __ | |_ ___  _ __\n",
        "    | |_) / _` / __/ __|/ _ \\ '__| | |   / _ \\| '_ ` _ \\| '_ ` _ \\ / _ \\ '_ \\| __/ _ \\| '__|\n",
        "    |  __/ (_| \\__ \\__ \\  __/ |    | |__| (_) | | | | | | | | | | |  __/ | | | || (_) | |\n",
        "    |_|   \\__,_|___/___/\\___|_|     \\____\\___/|_| |_| |_|_| |_| |_|\\___|_| |_|\\__\\___/|_|\n",
        "    \"\"\")\n",
        "    print(\"\\n🔒 Secure Password Generator 🔒\")\n",
        "    print(\"──────────────────────────────────────────\")\n",
        "\n",
        "def get_password_config():\n",
        "    print(\"\\nPassword Requirements:\")\n",
        "\n",
        "    while True:\n",
        "        try:\n",
        "            count = int(input(\"How many passwords to generate? (1-20): \"))\n",
        "            if 1 <= count <= 20:\n",
        "                break\n",
        "            print(\"❌ Please enter a number between 1 and 20.\")\n",
        "        except ValueError:\n",
        "            print(\"❌ Invalid input! Enter a number.\")\n",
        "\n",
        "    while True:\n",
        "        try:\n",
        "            length = int(input(\"Password length (8-64 characters): \"))\n",
        "            if 8 <= length <= 64:\n",
        "                break\n",
        "            print(\"❌ Password should be between 8-64 characters.\")\n",
        "        except ValueError:\n",
        "            print(\"❌ Invalid input! Enter a number.\")\n",
        "\n",
        "    print(\"\\nSelect character types to include:\")\n",
        "    print(\"1. Lowercase letters (abc...)\")\n",
        "    print(\"2. Uppercase letters (ABC...)\")\n",
        "    print(\"3. Digits (123...)\")\n",
        "    print(\"4. Special characters (!@#...)\")\n",
        "    print(\"5. All of the above\")\n",
        "\n",
        "    while True:\n",
        "        try:\n",
        "            choice = int(input(\"\\nEnter your choice (1-5): \"))\n",
        "            if 1 <= choice <= 5:\n",
        "                break\n",
        "            print(\"❌ Please enter a number between 1 and 5.\")\n",
        "        except ValueError:\n",
        "            print(\"❌ Invalid input! Enter a number.\")\n",
        "\n",
        "    return count, length, choice\n",
        "\n",
        "def generate_password(length, char_set):\n",
        "    \"\"\"Generates a secure random password using the specified character set.\"\"\"\n",
        "    return ''.join(secrets.choice(char_set) for _ in range(length))\n",
        "\n",
        "def main():\n",
        "    display_banner()\n",
        "\n",
        "    # Character sets\n",
        "    char_sets = {\n",
        "        1: string.ascii_lowercase,\n",
        "        2: string.ascii_uppercase,\n",
        "        3: string.digits,\n",
        "        4: '!@#$%&*().,?',\n",
        "        5: string.ascii_letters + string.digits + '!@#$%&*().,?'\n",
        "    }\n",
        "\n",
        "    count, length, choice = get_password_config()\n",
        "    char_set = char_sets[choice]\n",
        "\n",
        "    print(\"\\n\" + \"═\" * 50)\n",
        "    print(\"\\nGenerated Passwords:\")\n",
        "\n",
        "    for i in range(count):\n",
        "        if choice == 5:\n",
        "            while True:\n",
        "                pwd = generate_password(length, char_set)\n",
        "                # Ensure password contains at least one of each required type\n",
        "                if (any(c.islower() for c in pwd) and\n",
        "                    any(c.isupper() for c in pwd) and\n",
        "                    any(c.isdigit() for c in pwd) and\n",
        "                    any(c in '!@#$%&*().,?' for c in pwd)):\n",
        "                    break\n",
        "        else:\n",
        "            pwd = generate_password(length, char_set)\n",
        "\n",
        "        strength = \"Strong\" if length >= 12 else \"Medium\" if length >= 8 else \"Weak\"\n",
        "\n",
        "        print(f\"\\nPassword {i+1}: {pwd}\")\n",
        "        print(f\"🔹 Strength: {strength} | Length: {length} chars\")\n",
        "\n",
        "    print(\"\\n\" + \"═\" * 50)\n",
        "    print(\"\\n🔐 Password Safety Tips:\")\n",
        "    print(\"1. Use a unique password for each account.\")\n",
        "    print(\"2. Consider using a password manager.\")\n",
        "    print(\"3. Change passwords every 3-6 months.\")\n",
        "    print(\"4. Never share your passwords with anyone.\")\n",
        "\n",
        "    if input(\"\\nGenerate more passwords? (y/n): \").lower() == 'y':\n",
        "        main()\n",
        "    else:\n",
        "        print(\"\\n✅ Thank you for using Secure Password Generator! Stay safe online! 🔒\")\n",
        "\n",
        "if __name__ == '__main__':\n",
        "    main()\n"
      ],
      "metadata": {
        "id": "sA0EPVp8vZr7"
      },
      "execution_count": null,
      "outputs": []
    },
    {
      "cell_type": "markdown",
      "source": [
        "\n",
        "\n",
        "---\n",
        "<h1>Project_08: Streamlit-Based-BMI-Calculator:\n",
        "github-link </br> https://github.com/javeria-kamran/project_08-BMI-calculator\n",
        "\n",
        "</br>\n",
        "Deployed-link </br> https://bmi-calculator-javeriakamran.streamlit.app/\n",
        "\n",
        "---\n",
        "\n",
        "\n"
      ],
      "metadata": {
        "id": "GwgicH91vlF-"
      }
    },
    {
      "cell_type": "markdown",
      "source": [
        "---\n",
        "<h1>Project_09: Streamlit-Based-Simple-Data-Dashboard:\n",
        "github-link </br> https://github.com/javeria-kamran/project09_Simple-Data-Dashboard\n",
        "\n",
        "</br>\n",
        "Deployed-link </br> https://project09simple-data-dashboard-javeriakamran.streamlit.app/\n",
        "\n",
        "---\n",
        "\n",
        "\n",
        "\n",
        "---\n",
        "\n"
      ],
      "metadata": {
        "id": "3MZY0MnNwIXF"
      }
    }
  ]
}